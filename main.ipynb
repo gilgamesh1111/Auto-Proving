{
 "cells": [
  {
   "cell_type": "code",
   "execution_count": 1,
   "id": "17bc21c4",
   "metadata": {},
   "outputs": [
    {
     "data": {
      "text/html": [
       "<pre style=\"white-space:pre;overflow-x:auto;line-height:normal;font-family:Menlo,'DejaVu Sans Mono',consolas,'Courier New',monospace\"><span style=\"color: #7fbfbf; text-decoration-color: #7fbfbf\">[23:51:31] </span><span style=\"color: #000080; text-decoration-color: #000080\">INFO    </span> For optimal use on Windows, enable long paths by running this command as            <a href=\"file://d:\\git_clone\\LEL\\.pixi\\envs\\default\\Lib\\site-packages\\lean_interact\\utils.py\" target=\"_blank\"><span style=\"color: #7f7f7f; text-decoration-color: #7f7f7f\">utils.py</span></a><span style=\"color: #7f7f7f; text-decoration-color: #7f7f7f\">:</span><a href=\"file://d:\\git_clone\\LEL\\.pixi\\envs\\default\\Lib\\site-packages\\lean_interact\\utils.py#93\" target=\"_blank\"><span style=\"color: #7f7f7f; text-decoration-color: #7f7f7f\">93</span></a>\n",
       "<span style=\"color: #7fbfbf; text-decoration-color: #7fbfbf\">           </span>         administrator:                                                                      <span style=\"color: #7f7f7f; text-decoration-color: #7f7f7f\">           </span>\n",
       "</pre>\n"
      ],
      "text/plain": [
       "\u001b[2;36m[23:51:31]\u001b[0m\u001b[2;36m \u001b[0m\u001b[34mINFO    \u001b[0m For optimal use on Windows, enable long paths by running this command as            \u001b]8;id=701854;file://d:\\git_clone\\LEL\\.pixi\\envs\\default\\Lib\\site-packages\\lean_interact\\utils.py\u001b\\\u001b[2mutils.py\u001b[0m\u001b]8;;\u001b\\\u001b[2m:\u001b[0m\u001b]8;id=585059;file://d:\\git_clone\\LEL\\.pixi\\envs\\default\\Lib\\site-packages\\lean_interact\\utils.py#93\u001b\\\u001b[2m93\u001b[0m\u001b]8;;\u001b\\\n",
       "\u001b[2;36m           \u001b[0m         administrator:                                                                      \u001b[2m           \u001b[0m\n"
      ]
     },
     "metadata": {},
     "output_type": "display_data"
    },
    {
     "data": {
      "text/html": [
       "<pre style=\"white-space:pre;overflow-x:auto;line-height:normal;font-family:Menlo,'DejaVu Sans Mono',consolas,'Courier New',monospace\"><span style=\"color: #7fbfbf; text-decoration-color: #7fbfbf\">           </span><span style=\"color: #000080; text-decoration-color: #000080\">INFO    </span> New-ItemProperty -Path <span style=\"color: #008000; text-decoration-color: #008000\">\"HKLM:\\SYSTEM\\CurrentControlSet\\Control\\FileSystem\"</span> -Name    <a href=\"file://d:\\git_clone\\LEL\\.pixi\\envs\\default\\Lib\\site-packages\\lean_interact\\utils.py\" target=\"_blank\"><span style=\"color: #7f7f7f; text-decoration-color: #7f7f7f\">utils.py</span></a><span style=\"color: #7f7f7f; text-decoration-color: #7f7f7f\">:</span><a href=\"file://d:\\git_clone\\LEL\\.pixi\\envs\\default\\Lib\\site-packages\\lean_interact\\utils.py#94\" target=\"_blank\"><span style=\"color: #7f7f7f; text-decoration-color: #7f7f7f\">94</span></a>\n",
       "<span style=\"color: #7fbfbf; text-decoration-color: #7fbfbf\">           </span>         LongPathsEnabled -Value <span style=\"color: #008080; text-decoration-color: #008080; font-weight: bold\">1</span> -PropertyType DWord -Force                                <span style=\"color: #7f7f7f; text-decoration-color: #7f7f7f\">           </span>\n",
       "</pre>\n"
      ],
      "text/plain": [
       "\u001b[2;36m          \u001b[0m\u001b[2;36m \u001b[0m\u001b[34mINFO    \u001b[0m New-ItemProperty -Path \u001b[32m\"HKLM:\\SYSTEM\\CurrentControlSet\\Control\\FileSystem\"\u001b[0m -Name    \u001b]8;id=619052;file://d:\\git_clone\\LEL\\.pixi\\envs\\default\\Lib\\site-packages\\lean_interact\\utils.py\u001b\\\u001b[2mutils.py\u001b[0m\u001b]8;;\u001b\\\u001b[2m:\u001b[0m\u001b]8;id=713372;file://d:\\git_clone\\LEL\\.pixi\\envs\\default\\Lib\\site-packages\\lean_interact\\utils.py#94\u001b\\\u001b[2m94\u001b[0m\u001b]8;;\u001b\\\n",
       "\u001b[2;36m           \u001b[0m         LongPathsEnabled -Value \u001b[1;36m1\u001b[0m -PropertyType DWord -Force                                \u001b[2m           \u001b[0m\n"
      ]
     },
     "metadata": {},
     "output_type": "display_data"
    },
    {
     "data": {
      "text/html": [
       "<pre style=\"white-space:pre;overflow-x:auto;line-height:normal;font-family:Menlo,'DejaVu Sans Mono',consolas,'Courier New',monospace\"><span style=\"color: #7fbfbf; text-decoration-color: #7fbfbf\">           </span><span style=\"color: #000080; text-decoration-color: #000080\">INFO    </span> For optimal use on Windows, configure git for long paths by running:               <a href=\"file://d:\\git_clone\\LEL\\.pixi\\envs\\default\\Lib\\site-packages\\lean_interact\\utils.py\" target=\"_blank\"><span style=\"color: #7f7f7f; text-decoration-color: #7f7f7f\">utils.py</span></a><span style=\"color: #7f7f7f; text-decoration-color: #7f7f7f\">:</span><a href=\"file://d:\\git_clone\\LEL\\.pixi\\envs\\default\\Lib\\site-packages\\lean_interact\\utils.py#112\" target=\"_blank\"><span style=\"color: #7f7f7f; text-decoration-color: #7f7f7f\">112</span></a>\n",
       "</pre>\n"
      ],
      "text/plain": [
       "\u001b[2;36m          \u001b[0m\u001b[2;36m \u001b[0m\u001b[34mINFO    \u001b[0m For optimal use on Windows, configure git for long paths by running:               \u001b]8;id=620344;file://d:\\git_clone\\LEL\\.pixi\\envs\\default\\Lib\\site-packages\\lean_interact\\utils.py\u001b\\\u001b[2mutils.py\u001b[0m\u001b]8;;\u001b\\\u001b[2m:\u001b[0m\u001b]8;id=83652;file://d:\\git_clone\\LEL\\.pixi\\envs\\default\\Lib\\site-packages\\lean_interact\\utils.py#112\u001b\\\u001b[2m112\u001b[0m\u001b]8;;\u001b\\\n"
      ]
     },
     "metadata": {},
     "output_type": "display_data"
    },
    {
     "data": {
      "text/html": [
       "<pre style=\"white-space:pre;overflow-x:auto;line-height:normal;font-family:Menlo,'DejaVu Sans Mono',consolas,'Courier New',monospace\"><span style=\"color: #7fbfbf; text-decoration-color: #7fbfbf\">           </span><span style=\"color: #000080; text-decoration-color: #000080\">INFO    </span> git config --global core.longpaths true                                            <a href=\"file://d:\\git_clone\\LEL\\.pixi\\envs\\default\\Lib\\site-packages\\lean_interact\\utils.py\" target=\"_blank\"><span style=\"color: #7f7f7f; text-decoration-color: #7f7f7f\">utils.py</span></a><span style=\"color: #7f7f7f; text-decoration-color: #7f7f7f\">:</span><a href=\"file://d:\\git_clone\\LEL\\.pixi\\envs\\default\\Lib\\site-packages\\lean_interact\\utils.py#113\" target=\"_blank\"><span style=\"color: #7f7f7f; text-decoration-color: #7f7f7f\">113</span></a>\n",
       "</pre>\n"
      ],
      "text/plain": [
       "\u001b[2;36m          \u001b[0m\u001b[2;36m \u001b[0m\u001b[34mINFO    \u001b[0m git config --global core.longpaths true                                            \u001b]8;id=156561;file://d:\\git_clone\\LEL\\.pixi\\envs\\default\\Lib\\site-packages\\lean_interact\\utils.py\u001b\\\u001b[2mutils.py\u001b[0m\u001b]8;;\u001b\\\u001b[2m:\u001b[0m\u001b]8;id=974648;file://d:\\git_clone\\LEL\\.pixi\\envs\\default\\Lib\\site-packages\\lean_interact\\utils.py#113\u001b\\\u001b[2m113\u001b[0m\u001b]8;;\u001b\\\n"
      ]
     },
     "metadata": {},
     "output_type": "display_data"
    },
    {
     "data": {
      "text/plain": [
       "True"
      ]
     },
     "execution_count": 1,
     "metadata": {},
     "output_type": "execute_result"
    }
   ],
   "source": [
    "from typing import Annotated,Sequence,TypedDict,List\n",
    "from dotenv import load_dotenv\n",
    "from langchain_core.messages import HumanMessage,AIMessage,BaseMessage,SystemMessage,ToolMessage\n",
    "from langgraph.graph import StateGraph,START,END\n",
    "from langchain_core.tools import tool\n",
    "from langgraph.graph.message import add_messages\n",
    "from langgraph.prebuilt import ToolNode\n",
    "import os\n",
    "import time\n",
    "import asyncio\n",
    "from lean_interact import LeanREPLConfig, AutoLeanServer, Command,LocalProject\n",
    "from lean_interact.interface import CommandResponse\n",
    "import nest_asyncio\n",
    "from git import Repo\n",
    "from utils.VectorStore import VectorStore\n",
    "from typing import Optional, TypedDict\n",
    "\n",
    "nest_asyncio.apply()\n",
    "load_dotenv()"
   ]
  },
  {
   "cell_type": "code",
   "execution_count": 5,
   "id": "4868b322",
   "metadata": {},
   "outputs": [
    {
     "name": "stdout",
     "output_type": "stream",
     "text": [
      "sync_store 完成\n",
      "本地路径 ./mathlib4 已存在，跳过克隆操作。\n"
     ]
    }
   ],
   "source": [
    "vec_store=VectorStore(r\".\\src\\src_md\",r\".\\src\\src_VectorStore\")\n",
    "retriever_tool=vec_store.retriever_tool\n",
    "#vec_store.sync_md(r\".\\src\\src_pdf\")\n",
    "\n",
    "local_repo_path = \"./mathlib4\"\n",
    "if not os.path.exists(local_repo_path):\n",
    "    print(f\"本地路径 {local_repo_path} 不存在，开始克隆 GitHub 仓库...\")\n",
    "    try:\n",
    "        # 使用 ! 执行系统命令克隆仓库\n",
    "        github_repo_url=\"https://github.com/leanprover-community/mathlib4.git\"\n",
    "        Repo.clone_from(github_repo_url, local_repo_path)\n",
    "        print(f\"GitHub 仓库 {github_repo_url} 已成功克隆到 {local_repo_path}\")\n",
    "    except Exception as e:\n",
    "        print(f\"克隆仓库时出错: {e}\")\n",
    "else:\n",
    "    print(f\"本地路径 {local_repo_path} 已存在，跳过克隆操作。\")\n",
    "\n"
   ]
  },
  {
   "cell_type": "code",
   "execution_count": 4,
   "id": "48a5b21a",
   "metadata": {},
   "outputs": [
    {
     "data": {
      "text/plain": [
       "CommandResponse(env=0)"
      ]
     },
     "execution_count": 4,
     "metadata": {},
     "output_type": "execute_result"
    }
   ],
   "source": [
    "config = LeanREPLConfig(project=LocalProject(local_repo_path))\n",
    "server = AutoLeanServer(config)\n",
    "server.run(Command(cmd=\"theorem ex (n : Nat) : n = 5 → n = 5 := id\"))"
   ]
  },
  {
   "cell_type": "code",
   "execution_count": null,
   "id": "176a0858",
   "metadata": {},
   "outputs": [],
   "source": [
    "class NatureState(TypedDict):\n",
    "    query : str | None \n",
    "    background : str | None \n",
    "\n",
    "class LeanReply(TypedDict):\n",
    "    leanReply : dict[str, str]\n",
    "    leanRunRes : dict[str, CommandResponse]\n"
   ]
  },
  {
   "cell_type": "code",
   "execution_count": null,
   "id": "b238252e",
   "metadata": {},
   "outputs": [],
   "source": [
    "vec_store.add_texts([\"hello\", \"world\"], metadatas=[{\"source\": \"test\"}])\n",
    "\n"
   ]
  }
 ],
 "metadata": {
  "kernelspec": {
   "display_name": "default",
   "language": "python",
   "name": "python3"
  },
  "language_info": {
   "codemirror_mode": {
    "name": "ipython",
    "version": 3
   },
   "file_extension": ".py",
   "mimetype": "text/x-python",
   "name": "python",
   "nbconvert_exporter": "python",
   "pygments_lexer": "ipython3",
   "version": "3.11.13"
  }
 },
 "nbformat": 4,
 "nbformat_minor": 5
}
