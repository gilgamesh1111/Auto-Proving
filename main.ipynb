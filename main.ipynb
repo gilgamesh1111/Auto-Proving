{
    "cells": [
        {
            "cell_type": "code",
            "execution_count": 1,
            "id": "17bc21c4",
            "metadata": {},
            "outputs": [
                {
                    "data": {
                        "text/html": [
                            "<pre style=\"white-space:pre;overflow-x:auto;line-height:normal;font-family:Menlo,'DejaVu Sans Mono',consolas,'Courier New',monospace\"><span style=\"color: #7fbfbf; text-decoration-color: #7fbfbf\">[08:53:25] </span><span style=\"color: #000080; text-decoration-color: #000080\">INFO    </span> For optimal use on Windows, enable long paths by running this command as           <a href=\"file://d:\\git_clone\\LEL\\.pixi\\envs\\default\\Lib\\site-packages\\lean_interact\\utils.py\" target=\"_blank\"><span style=\"color: #7f7f7f; text-decoration-color: #7f7f7f\">utils.py</span></a><span style=\"color: #7f7f7f; text-decoration-color: #7f7f7f\">:</span><a href=\"file://d:\\git_clone\\LEL\\.pixi\\envs\\default\\Lib\\site-packages\\lean_interact\\utils.py#117\" target=\"_blank\"><span style=\"color: #7f7f7f; text-decoration-color: #7f7f7f\">117</span></a>\n",
                            "<span style=\"color: #7fbfbf; text-decoration-color: #7fbfbf\">           </span>         administrator:                                                                     <span style=\"color: #7f7f7f; text-decoration-color: #7f7f7f\">            </span>\n",
                            "</pre>\n"
                        ],
                        "text/plain": [
                            "\u001b[2;36m[08:53:25]\u001b[0m\u001b[2;36m \u001b[0m\u001b[34mINFO    \u001b[0m For optimal use on Windows, enable long paths by running this command as           \u001b]8;id=608771;file://d:\\git_clone\\LEL\\.pixi\\envs\\default\\Lib\\site-packages\\lean_interact\\utils.py\u001b\\\u001b[2mutils.py\u001b[0m\u001b]8;;\u001b\\\u001b[2m:\u001b[0m\u001b]8;id=750634;file://d:\\git_clone\\LEL\\.pixi\\envs\\default\\Lib\\site-packages\\lean_interact\\utils.py#117\u001b\\\u001b[2m117\u001b[0m\u001b]8;;\u001b\\\n",
                            "\u001b[2;36m           \u001b[0m         administrator:                                                                     \u001b[2m            \u001b[0m\n"
                        ]
                    },
                    "metadata": {},
                    "output_type": "display_data"
                },
                {
                    "data": {
                        "text/html": [
                            "<pre style=\"white-space:pre;overflow-x:auto;line-height:normal;font-family:Menlo,'DejaVu Sans Mono',consolas,'Courier New',monospace\"><span style=\"color: #7fbfbf; text-decoration-color: #7fbfbf\">           </span><span style=\"color: #000080; text-decoration-color: #000080\">INFO    </span> New-ItemProperty -Path <span style=\"color: #008000; text-decoration-color: #008000\">\"HKLM:\\SYSTEM\\CurrentControlSet\\Control\\FileSystem\"</span> -Name   <a href=\"file://d:\\git_clone\\LEL\\.pixi\\envs\\default\\Lib\\site-packages\\lean_interact\\utils.py\" target=\"_blank\"><span style=\"color: #7f7f7f; text-decoration-color: #7f7f7f\">utils.py</span></a><span style=\"color: #7f7f7f; text-decoration-color: #7f7f7f\">:</span><a href=\"file://d:\\git_clone\\LEL\\.pixi\\envs\\default\\Lib\\site-packages\\lean_interact\\utils.py#118\" target=\"_blank\"><span style=\"color: #7f7f7f; text-decoration-color: #7f7f7f\">118</span></a>\n",
                            "<span style=\"color: #7fbfbf; text-decoration-color: #7fbfbf\">           </span>         LongPathsEnabled -Value <span style=\"color: #008080; text-decoration-color: #008080; font-weight: bold\">1</span> -PropertyType DWord -Force                               <span style=\"color: #7f7f7f; text-decoration-color: #7f7f7f\">            </span>\n",
                            "</pre>\n"
                        ],
                        "text/plain": [
                            "\u001b[2;36m          \u001b[0m\u001b[2;36m \u001b[0m\u001b[34mINFO    \u001b[0m New-ItemProperty -Path \u001b[32m\"HKLM:\\SYSTEM\\CurrentControlSet\\Control\\FileSystem\"\u001b[0m -Name   \u001b]8;id=744170;file://d:\\git_clone\\LEL\\.pixi\\envs\\default\\Lib\\site-packages\\lean_interact\\utils.py\u001b\\\u001b[2mutils.py\u001b[0m\u001b]8;;\u001b\\\u001b[2m:\u001b[0m\u001b]8;id=787982;file://d:\\git_clone\\LEL\\.pixi\\envs\\default\\Lib\\site-packages\\lean_interact\\utils.py#118\u001b\\\u001b[2m118\u001b[0m\u001b]8;;\u001b\\\n",
                            "\u001b[2;36m           \u001b[0m         LongPathsEnabled -Value \u001b[1;36m1\u001b[0m -PropertyType DWord -Force                               \u001b[2m            \u001b[0m\n"
                        ]
                    },
                    "metadata": {},
                    "output_type": "display_data"
                },
                {
                    "data": {
                        "text/html": [
                            "<pre style=\"white-space:pre;overflow-x:auto;line-height:normal;font-family:Menlo,'DejaVu Sans Mono',consolas,'Courier New',monospace\"><span style=\"color: #7fbfbf; text-decoration-color: #7fbfbf\">           </span><span style=\"color: #000080; text-decoration-color: #000080\">INFO    </span> For optimal use on Windows, configure git for long paths by running:               <a href=\"file://d:\\git_clone\\LEL\\.pixi\\envs\\default\\Lib\\site-packages\\lean_interact\\utils.py\" target=\"_blank\"><span style=\"color: #7f7f7f; text-decoration-color: #7f7f7f\">utils.py</span></a><span style=\"color: #7f7f7f; text-decoration-color: #7f7f7f\">:</span><a href=\"file://d:\\git_clone\\LEL\\.pixi\\envs\\default\\Lib\\site-packages\\lean_interact\\utils.py#136\" target=\"_blank\"><span style=\"color: #7f7f7f; text-decoration-color: #7f7f7f\">136</span></a>\n",
                            "</pre>\n"
                        ],
                        "text/plain": [
                            "\u001b[2;36m          \u001b[0m\u001b[2;36m \u001b[0m\u001b[34mINFO    \u001b[0m For optimal use on Windows, configure git for long paths by running:               \u001b]8;id=248577;file://d:\\git_clone\\LEL\\.pixi\\envs\\default\\Lib\\site-packages\\lean_interact\\utils.py\u001b\\\u001b[2mutils.py\u001b[0m\u001b]8;;\u001b\\\u001b[2m:\u001b[0m\u001b]8;id=205114;file://d:\\git_clone\\LEL\\.pixi\\envs\\default\\Lib\\site-packages\\lean_interact\\utils.py#136\u001b\\\u001b[2m136\u001b[0m\u001b]8;;\u001b\\\n"
                        ]
                    },
                    "metadata": {},
                    "output_type": "display_data"
                },
                {
                    "data": {
                        "text/html": [
                            "<pre style=\"white-space:pre;overflow-x:auto;line-height:normal;font-family:Menlo,'DejaVu Sans Mono',consolas,'Courier New',monospace\"><span style=\"color: #7fbfbf; text-decoration-color: #7fbfbf\">           </span><span style=\"color: #000080; text-decoration-color: #000080\">INFO    </span> git config --global core.longpaths true                                            <a href=\"file://d:\\git_clone\\LEL\\.pixi\\envs\\default\\Lib\\site-packages\\lean_interact\\utils.py\" target=\"_blank\"><span style=\"color: #7f7f7f; text-decoration-color: #7f7f7f\">utils.py</span></a><span style=\"color: #7f7f7f; text-decoration-color: #7f7f7f\">:</span><a href=\"file://d:\\git_clone\\LEL\\.pixi\\envs\\default\\Lib\\site-packages\\lean_interact\\utils.py#137\" target=\"_blank\"><span style=\"color: #7f7f7f; text-decoration-color: #7f7f7f\">137</span></a>\n",
                            "</pre>\n"
                        ],
                        "text/plain": [
                            "\u001b[2;36m          \u001b[0m\u001b[2;36m \u001b[0m\u001b[34mINFO    \u001b[0m git config --global core.longpaths true                                            \u001b]8;id=107665;file://d:\\git_clone\\LEL\\.pixi\\envs\\default\\Lib\\site-packages\\lean_interact\\utils.py\u001b\\\u001b[2mutils.py\u001b[0m\u001b]8;;\u001b\\\u001b[2m:\u001b[0m\u001b]8;id=572729;file://d:\\git_clone\\LEL\\.pixi\\envs\\default\\Lib\\site-packages\\lean_interact\\utils.py#137\u001b\\\u001b[2m137\u001b[0m\u001b]8;;\u001b\\\n"
                        ]
                    },
                    "metadata": {},
                    "output_type": "display_data"
                },
                {
                    "name": "stdout",
                    "output_type": "stream",
                    "text": [
                        "API Client initialized.\n"
                    ]
                },
                {
                    "data": {
                        "text/plain": [
                            "True"
                        ]
                    },
                    "execution_count": 1,
                    "metadata": {},
                    "output_type": "execute_result"
                }
            ],
            "source": [
                "from dotenv import load_dotenv\n",
                "from langchain_core.messages import HumanMessage,AIMessage,BaseMessage,SystemMessage,ToolMessage\n",
                "from langgraph.graph import StateGraph,START,END\n",
                "from langgraph.graph.message import add_messages\n",
                "from langgraph.prebuilt import ToolNode\n",
                "from langchain_core.tools import tool\n",
                "import os\n",
                "from lean_interact import LeanREPLConfig, AutoLeanServer, Command,LocalProject\n",
                "from lean_interact.interface import CommandResponse\n",
                "import nest_asyncio\n",
                "from git import Repo\n",
                "from typing import Optional, TypedDict\n",
                "from langchain_google_genai import ChatGoogleGenerativeAI\n",
                "from typing import Annotated,Sequence,TypedDict,List\n",
                "from langchain_community.chat_models import ChatTongyi\n",
                "from utils import *\n",
                "from typing import TypedDict, Union\n",
                "import uuid\n",
                "\n",
                "\n",
                "nest_asyncio.apply()\n",
                "load_dotenv()"
            ]
        },
        {
            "cell_type": "code",
            "execution_count": null,
            "id": "4868b322",
            "metadata": {},
            "outputs": [
                {
                    "name": "stdout",
                    "output_type": "stream",
                    "text": [
                        "sync_store 完成\n",
                        "本地路径 ./mathlib4 已存在，跳过克隆操作。\n",
                        "CommandResponse(env=0)\n"
                    ]
                }
            ],
            "source": [
                "vec_store=VectorStore(r\".\\src\\src_md\",r\".\\src\\src_VectorStore\")\n",
                "retriever_tool=vec_store.retriever_tool\n",
                "#vec_store.sync_md(r\".\\src\\src_pdf\")\n",
                "\n",
                "local_repo_path = \"./mathlib4\"\n",
                "if not os.path.exists(local_repo_path):\n",
                "    print(f\"本地路径 {local_repo_path} 不存在，开始克隆 GitHub 仓库...\")\n",
                "    try:\n",
                "        # 使用 ! 执行系统命令克隆仓库\n",
                "        github_repo_url=\"https://github.com/leanprover-community/mathlib4.git\"\n",
                "        Repo.clone_from(github_repo_url, local_repo_path)\n",
                "        print(f\"GitHub 仓库 {github_repo_url} 已成功克隆到 {local_repo_path}\")\n",
                "    except Exception as e:\n",
                "        print(f\"克隆仓库时出错: {e}\")\n",
                "else:\n",
                "    print(f\"本地路径 {local_repo_path} 已存在，跳过克隆操作。\")\n",
                "\n",
                "config = LeanREPLConfig(project=LocalProject(directory=local_repo_path))\n",
                "server = AutoLeanServer(config)\n",
                "print(server.run(Command(cmd=\"theorem ex (n : Nat) : n = 5 → n = 5 := id\")))"
            ]
        },
        {
            "cell_type": "code",
            "execution_count": null,
            "id": "48a5b21a",
            "metadata": {},
            "outputs": [],
            "source": [
                "# llm=ChatGoogleGenerativeAI(\n",
                "#     model=\"gemini-2.5-flash\",\n",
                "#     temperature=0,\n",
                "#     max_tokens=None,\n",
                "#     timeout=None,\n",
                "# )    \n",
                "\n",
                "llm=ChatTongyi(model=\"qwen-max\",temperature=0.0,max_tokens=None,timeout=None)\n",
                "prover=Prover(model_ls=[\"hf.co/DevQuasar/AI-MO.Kimina-Prover-Preview-Distill-7B-GGUF:Q4_K_M\"],plantform=\"local\")"
            ]
        },
        {
            "cell_type": "code",
            "execution_count": 4,
            "id": "176a0858",
            "metadata": {},
            "outputs": [],
            "source": [
                "class AgentState(TypedDict):\n",
                "    initMessages: Annotated[Sequence[BaseMessage], add_messages]\n",
                "    proverMessages : dict[str,BaseMessage]\n",
                "    agentMessages : Annotated[Sequence[BaseMessage], add_messages]\n",
                "    \n",
                "class LeanState(TypedDict):\n",
                "    query : str | None \n",
                "    background : str | None \n",
                "    leanQuery : str | None\n",
                "    leanTheorem : str | None\n",
                "\n",
                "class Tree(TypedDict):\n",
                "    leaves : dict[str , list[Union[str,CommandResponse]]]"
            ]
        },
        {
            "cell_type": "code",
            "execution_count": 5,
            "id": "0b3bcf6b",
            "metadata": {},
            "outputs": [
                {
                    "name": "stdout",
                    "output_type": "stream",
                    "text": [
                        "content='Hello! How can I assist you today?' additional_kwargs={} response_metadata={'model_name': 'qwen-max', 'finish_reason': 'stop', 'request_id': '4a44d722-10e7-9dac-9ce6-ec30ae54b0ec', 'token_usage': {'input_tokens': 9, 'output_tokens': 9, 'total_tokens': 18, 'prompt_tokens_details': {'cached_tokens': 0}}} id='run--6840048f-b762-4b0e-9211-a5b6ab09d3f4-0'\n",
                        "run prover\n",
                        "{'hf.co/DevQuasar/AI-MO.Kimina-Prover-Preview-Distill-7B-GGUF:Q4_K_M_0': AIMessage(content=\"# Informal Proof:\\nThis is a proof by contradiction. Assume that $2 \\\\in \\\\mathbb{Q}$. This means that there exists a fraction $\\\\frac{p}{q}$, where $p$ and $q$ are integers with no common factors (i.e., the fraction is in its simplest form), such that $\\\\frac{p}{q} = 2$.\\n\\nSquaring both sides of the equation gives us $\\\\left(\\\\frac{p}{q}\\\\right)^2 = 2^2$, which simplifies to $\\\\frac{p^2}{q^2} = 4$. This leads to $p^2 = 4q^2$.\\n\\nThis implies that $p^2$ is a multiple of 4, and therefore $p$ must also be a multiple of 2 (since the square of an odd number is odd). So we can write $p = 2k$ for some integer $k$.\\n\\nSubstituting $p = 2k$ into the equation $p^2 = 4q^2$ gives us $(2k)^2 = 4q^2$, which simplifies to $4k^2 = 4q^2$. Dividing both sides by 4 yields $k^2 = q^2$.\\n\\nThis means that $k^2 = q^2$, indicating that $q$ is also a multiple of 2 (since the square of an odd number is odd). However, this implies that both $p$ and $q$ are multiples of 2, which contradicts our initial assumption that $\\\\frac{p}{q}$ is in its simplest form (as they share a common factor of 2).\\n\\nTherefore, our assumption that $2 \\\\in \\\\mathbb{Q}$ must be false. This means that $2$ is not a rational number, or in other words, $2 \\\\notin \\\\mathbb{Q}$.\\n\\n# Formal Proof in Lean 4:\\n```lean4\\nimport Mathlib\\n\\n/-\\nThis is a proof by contradiction. Assume that $2 \\\\in \\\\mathbb{Q}$. This means that there exists a fraction $\\\\frac{p}{q}$, where $p$ and $q$ are integers with no common factors (i.e., the fraction is in its simplest form), such that $\\\\frac{p}{q} = 2$.\\n-/\\ntheorem irrational_two : Iff (irrational (2 : ℚ)) True := by\\n  -- Assume that 2 is rational...\\n  have h : ¬irrational (2 : ℚ) := by\\n    -- ... then there exists a fraction p/q, such that p/q = 2.\\n    rw [irrational_eq] <;> use 2\\n    simp\\n  -- But it is a classical fact that the square root of a prime number is irrational.\\n  have h' : ¬irrational (2 : ℚ) := by\\n    rw [irrational_eq] <;> use √(2 : ℚ)\\n    simp; norm_num\\n  exact ⟨fun h => by aesop, fun h => h⟩\\n\\n```\\n\", additional_kwargs={}, response_metadata={'model': 'hf.co/DevQuasar/AI-MO.Kimina-Prover-Preview-Distill-7B-GGUF:Q4_K_M', 'created_at': '2025-07-28T00:55:01.3225018Z', 'done': True, 'done_reason': 'stop', 'total_duration': 29510870500, 'load_duration': 1842256200, 'prompt_eval_count': 23, 'prompt_eval_duration': 237164600, 'eval_count': 662, 'eval_duration': 27431309400, 'model_name': 'hf.co/DevQuasar/AI-MO.Kimina-Prover-Preview-Distill-7B-GGUF:Q4_K_M'}, id='run--93e3f59e-80ef-4460-bcdc-6c2333b82c47-0', usage_metadata={'input_tokens': 23, 'output_tokens': 662, 'total_tokens': 685})}\n"
                    ]
                }
            ],
            "source": [
                "print(llm.invoke(\"HI\"))\n",
                "print(prover.ainvoke(r\"use lean to prove 2 is not in \\mathbb{Q}\"))"
            ]
        },
        {
            "cell_type": "code",
            "execution_count": 6,
            "id": "b0b47af3",
            "metadata": {},
            "outputs": [],
            "source": [
                "leanState:LeanState={}\n",
                "tree:Tree={\"leaves\":{}}\n",
                "\n",
                "@tool\n",
                "def updateLeanState(stateName,text:str):\n",
                "    \"\"\"\n",
                "    更新AgentState\n",
                "    Args:\n",
                "        stateName:leanState 其中元素的名称\n",
                "        text:需要写入的内容\n",
                "    \"\"\"\n",
                "    global leanState\n",
                "    leanState[stateName]=text\n",
                "    return f\"leanState更新完成，更新了{stateName}\"\n",
                "\n",
                "@tool\n",
                "def update_leaf_message(lean:str):\n",
                "    \"\"\"\n",
                "    向树形结构添加新的解释信息\n",
                "    \n",
                "    参数:\n",
                "        lean: 待解释的文本内容\n",
                "    \n",
                "    返回:\n",
                "        包含操作结果的状态信息\n",
                "    功能:\n",
                "        1. 生成唯一标识符作为新节点ID\n",
                "        2. 创建包含原始文本和解释结果的元组\n",
                "        3. 将元组添加到树结构的leaves字典中\n",
                "        4. 返回更新后的树结构信息\n",
                "    \n",
                "    依赖:\n",
                "        - server.run(): 执行命令并返回lean解释器结果\n",
                "        - uuid.uuid4(): 生成随机唯一标识符的函数\n",
                "        - tree: 全局变量，存储树形结构的字典\n",
                "    \"\"\"\n",
                "    global tree\n",
                "    random_id=str(uuid.uuid4())\n",
                "    tree['leaves'][random_id]=[lean,server.run(Command(cmd=lean))]\n",
                "    print(\"节点更新\")\n",
                "    return f\"leanMessages 已更新了节点 {random_id}\"\n",
                "\n",
                "@tool\n",
                "def delete_leaf_message(leaf_id: str) -> dict:\n",
                "    \"\"\"\n",
                "    从树结构中删除指定ID的叶子节点\n",
                "    \n",
                "    Args:\n",
                "        leaf_id: 要删除的叶子节点ID\n",
                "        \n",
                "    Returns:\n",
                "        包含操作结果的字典\n",
                "    \"\"\"\n",
                "    global tree\n",
                "    if leaf_id not in tree[\"leaves\"]:\n",
                "        return  f\"error : 叶子节点ID '{leaf_id}'不存在\"\n",
                "        \n",
                "    tree[\"leaves\"].pop(leaf_id)\n",
                "    print(\"节点删除\")\n",
                "    return f\"叶子节点ID '{leaf_id}'已成功删除\"\n",
                "\n",
                "@tool\n",
                "def save(filename: str, lean: str) -> str:\n",
                "    \"\"\"将lean证明保存为Lean格式的文本文件并结束流程。\n",
                "    \n",
                "    参数:\n",
                "        filename: 文本文件名称。\n",
                "        lean: 要保存的Lean代码内容。\n",
                "    \"\"\"\n",
                "\n",
                "    # 确保文件名以.lean扩展名结尾\n",
                "    if not filename.endswith('.lean'):\n",
                "        filename = f\"{filename}.lean\"\n",
                "\n",
                "    try:\n",
                "        with open(filename, 'w', encoding='utf-8') as file:\n",
                "            file.write(lean)\n",
                "        print(f\"文档已保存至: {filename}\")\n",
                "        return f\"文档已成功保存至 '{filename}'。\"\n",
                "    \n",
                "    except Exception as e:\n",
                "        return f\"保存文档时出错: {str(e)}\""
            ]
        },
        {
            "cell_type": "code",
            "execution_count": 7,
            "id": "bdb44096",
            "metadata": {},
            "outputs": [],
            "source": [
                "systemPrompt={\n",
                "    \"init\":\"\"\"\n",
                "    你的任务：\n",
                "        1.你需要将leanState.query中的内容转换为lean语言，记录在leanState.leanQuery中,或者将leanState.leanQuery中的内容转换为自然语言，记录在leanState.qurey中，在这里，你并不需要解答问题，只需翻译即可。\n",
                "        2.你需要搜一些背景知识，为了帮助在你之后的模型理解，你需要将你搜集到的知识存储到leanState.background中。\n",
                "        3.你需要搜索一些关于该题目中使用的lean theorem，你需要将你搜到的知识存储到leanState.leanTheorem中。\n",
                "    你可以调用的工具：\n",
                "        1.updateLeanState 用来更新leanState\n",
                "        2.search_lean_theorem 用来搜索lean theorem的内容\n",
                "        3.ddgs_search 用来搜索网络中的内容\n",
                "        4.retriever_tool 用来搜索知识库中的信息\n",
                "    leanState的结构：\n",
                "        class LeanState(TypedDict):\n",
                "            query : str | None \n",
                "            background : str | None \n",
                "            leanQuery : str | None\n",
                "            leanTheorem : str | None\n",
                "    \"\"\",\n",
                "    \"prover\":f\"\"\"\n",
                "    你的任务：\n",
                "        1.你需要根据leanState信息的协助下写出证明\n",
                "            其中 query是问题的自然语言表达\n",
                "                 backgroud是关于问题的一些背景知识\n",
                "                 leanQuery是问题的lean语言陈述\n",
                "                 leanTheorem是问题可能使用到的定理\n",
                "        2.你可能会参考到以前给出的证明（不一定正确）\n",
                "            结构即{{\"leaves\": {{\"leaf_id\":[\"lean_proof\",\"leanInterpreted\"]}}}}\n",
                "    \"\"\",\n",
                "    \"agent\":f\"\"\"\n",
                "    你的任务：\n",
                "        1.总结proverMessages中的信息，记录在tree中，并且随时更新或删除tree中的内容（使用工具delete_leaf_message或update_leaf_message），你需要保证，百分之五十的证明淘汰率。\n",
                "        2.当你觉得tree中的证明令你满意，你可以使用工具save来保存该证明（证明包括：lean证明和注释的自然语言证明），这样可以退出程序，完成证明。\n",
                "        3.当你发现了某个证明引用了不存在的定理，你可以使用search_lean_theorem，你需要将你搜到的知识存储到leanState.leanTheorem中。\n",
                "    你可以调用的工具：\n",
                "        1.search_lean_theorem：搜索lean定理\n",
                "        2.delete_leaf_message：删除tree中某个证明\n",
                "        3.update_leaf_message：更新证明\n",
                "        4.updateLeanState：更新leanState\n",
                "        5.save：保存lean的证明\n",
                "    tree的结构:\n",
                "        class Tree(TypedDict):\n",
                "            leaves : dict[str , list[Union[str,CommandResponse]]]\n",
                "            结构即 {{\"leaves\": {{\"leaf_id\":[\"lean_proof\",\"leanInterpreted\"]}}}}\n",
                "    leanState的结构：\n",
                "        class LeanState(TypedDict):\n",
                "            query : str | None \n",
                "            background : str | None \n",
                "            leanQuery : str | None\n",
                "            leanTheorem : str | None\n",
                "    \"\"\"\n",
                "}\n",
                "\n",
                "init_tools=[updateLeanState,search_lean_theorem,ddgs_search,retriever_tool]\n",
                "agent_tools=[search_lean_theorem,updateLeanState,save,delete_leaf_message,update_leaf_message]\n",
                "init_llm=llm.bind_tools(init_tools)\n",
                "agent_llm=llm.bind_tools(agent_tools)\n",
                "def call_init_llm(state:AgentState)-> AgentState:\n",
                "    system=SystemMessage(content=systemPrompt[\"init\"])\n",
                "    response=init_llm.invoke([system]+state[\"initMessages\"])\n",
                "    return {\"initMessages\":[response]}\n",
                "\n",
                "def call_prover_llm(state:AgentState) -> AgentState:\n",
                "    prompt = f\"tree :{tree},leanState:{leanState}\"\n",
                "    system = systemPrompt[\"prover\"] + prompt\n",
                "    prover_results =prover.ainvoke(system)\n",
                "    state[\"proverMessages\"] = prover_results\n",
                "    return state\n",
                "\n",
                "def cal_agent_llm(state:AgentState)->AgentState:\n",
                "    historymess = state.get(\"agentMessages\", [])\n",
                "    provermess=state[\"proverMessages\"]\n",
                "    prompt=f\"tree:{tree},leanState:{leanState},proverMessages:{provermess}\"\n",
                "    system=SystemMessage(content=systemPrompt[\"agent\"]+prompt)\n",
                "    response=agent_llm.invoke([system]+historymess)\n",
                "    print(response)\n",
                "    return {\"agentMessages\":[response]}\n",
                "\n",
                "def should_init_continue(state :AgentState):\n",
                "    \"\"\"check the last massage contants tool call\"\"\"\n",
                "    result=state[\"initMessages\"][-1]\n",
                "    return hasattr(result,\"tool_calls\") and len(result.tool_calls) > 0\n",
                "\n",
                "def should_agent_continue(state: AgentState) -> str:\n",
                "    \"\"\"Determine if we should continue or end the conversation.\"\"\"\n",
                "\n",
                "    messages = state[\"agentMessages\"]\n",
                "    \n",
                "    if not messages:\n",
                "        return \"continue\"\n",
                "    \n",
                "    # This looks for the most recent tool message....\n",
                "    for message in reversed(messages):\n",
                "        if (isinstance(message, ToolMessage) and \n",
                "            message.name==\"save\"):\n",
                "            return \"end\" \n",
                "    return \"continue\"\n",
                "\n",
                "def should_agent_prover(state:AgentState):\n",
                "    result=state[\"agentMessages\"][-1]\n",
                "    return hasattr(result,\"tool_calls\") and len(result.tool_calls) > 0"
            ]
        },
        {
            "cell_type": "code",
            "execution_count": 8,
            "id": "240acaa8",
            "metadata": {},
            "outputs": [],
            "source": [
                "graph=StateGraph(AgentState)\n",
                "\n",
                "init_tool_node=ToolNode(init_tools,messages_key=\"initMessages\")\n",
                "agent_tool_node=ToolNode(agent_tools,messages_key=\"agentMessages\")\n",
                "\n",
                "graph.add_node(\"init_node\",call_init_llm)\n",
                "graph.add_node(\"init_tool_node\",init_tool_node)\n",
                "graph.add_node(\"prover_node\",call_prover_llm)\n",
                "graph.add_node(\"agent_node\",cal_agent_llm)\n",
                "graph.add_node(\"agent_tool_node\",agent_tool_node)\n",
                "\n",
                "graph.add_edge(START,\"init_node\")\n",
                "graph.add_edge(\"init_tool_node\",\"init_node\")\n",
                "graph.add_edge(\"prover_node\",\"agent_node\")\n",
                "\n",
                "graph.add_conditional_edges(\"init_node\",should_init_continue,{True:\"init_tool_node\",False:\"prover_node\"})\n",
                "graph.add_conditional_edges(\"agent_tool_node\",should_agent_continue,{\"continue\":\"agent_node\",\"end\":END})\n",
                "graph.add_conditional_edges(\"agent_node\",should_agent_prover,{True:\"agent_tool_node\",False:\"prover_node\"})\n",
                "agent=graph.compile()"
            ]
        },
        {
            "cell_type": "code",
            "execution_count": 9,
            "id": "0b2c7999",
            "metadata": {},
            "outputs": [
                {
                    "data": {
                        "image/png": "[encoded data removed]",
                        "text/plain": [
                            "<IPython.core.display.Image object>"
                        ]
                    },
                    "metadata": {},
                    "output_type": "display_data"
                }
            ],
            "source": [
                "from IPython.display import display, Image\n",
                "\n",
                "display(Image(agent.get_graph().draw_mermaid_png()))"
            ]
        },
        {
            "cell_type": "code",
            "execution_count": 12,
            "id": "905f4c04",
            "metadata": {},
            "outputs": [
                {
                    "name": "stdout",
                    "output_type": "stream",
                    "text": [
                        "run prover\n",
                        "content='' additional_kwargs={'tool_calls': [{'function': {'name': 'update_leaf_message', 'arguments': '{\"lean\": \"import Mathlib\\\\n\\\\ntheorem irrational_sqrt_two : Irrational (√2) := by \\\\n  native_decide\"}'}, 'index': 0, 'id': 'call_c077edbc9931402897dbf8', 'type': 'function'}]} response_metadata={'model_name': 'qwen-max', 'finish_reason': 'tool_calls', 'request_id': '9ff7e884-6203-9ae0-968b-d0c013043d3c', 'token_usage': {'input_tokens': 2778, 'output_tokens': 38, 'total_tokens': 2816, 'prompt_tokens_details': {'cached_tokens': 0}}} id='run--29a353c4-346e-4195-9078-0ea24a18215f-0' tool_calls=[{'name': 'update_leaf_message', 'args': {'lean': 'import Mathlib\\n\\ntheorem irrational_sqrt_two : Irrational (√2) := by \\n  native_decide'}, 'id': 'call_c077edbc9931402897dbf8', 'type': 'tool_call'}]\n",
                        "节点更新\n",
                        "content='' additional_kwargs={'tool_calls': [{'function': {'name': 'delete_leaf_message', 'arguments': '{\"leaf_id\": \"12d6e0dd-7cb5-48aa-8140-63eda9d2258f\"}'}, 'index': 0, 'id': 'call_db7c49fce9f344a286a79f', 'type': 'function'}]} response_metadata={'model_name': 'qwen-max', 'finish_reason': 'tool_calls', 'request_id': 'a121d2fd-2670-9ba5-ad91-8f590f8b8572', 'token_usage': {'input_tokens': 2977, 'output_tokens': 51, 'total_tokens': 3028, 'prompt_tokens_details': {'cached_tokens': 0}}} id='run--38f6a73d-fda7-4221-8c64-80f5f141ef1c-0' tool_calls=[{'name': 'delete_leaf_message', 'args': {'leaf_id': '12d6e0dd-7cb5-48aa-8140-63eda9d2258f'}, 'id': 'call_db7c49fce9f344a286a79f', 'type': 'tool_call'}]\n",
                        "节点删除\n",
                        "content='' additional_kwargs={'tool_calls': [{'function': {'name': 'update_leaf_message', 'arguments': '{\"lean\": \"import Mathlib\\\\n\\\\ntheorem irrational_sqrt_two : Irrational (√2) := by \\\\n  apply irrational_sqrt_two\"}'}, 'index': 0, 'id': 'call_d3404deef4dd4a43af67f1', 'type': 'function'}]} response_metadata={'model_name': 'qwen-max', 'finish_reason': 'tool_calls', 'request_id': '9b212f5f-869e-9cba-b39f-33b6ff330f26', 'token_usage': {'input_tokens': 2966, 'output_tokens': 46, 'total_tokens': 3012, 'prompt_tokens_details': {'cached_tokens': 0}}} id='run--3df48e3a-93e2-458c-80c9-180ebeeff7de-0' tool_calls=[{'name': 'update_leaf_message', 'args': {'lean': 'import Mathlib\\n\\ntheorem irrational_sqrt_two : Irrational (√2) := by \\n  apply irrational_sqrt_two'}, 'id': 'call_d3404deef4dd4a43af67f1', 'type': 'tool_call'}]\n",
                        "节点更新\n",
                        "content='' additional_kwargs={'tool_calls': [{'function': {'name': 'save', 'arguments': '{\"filename\": \"irrational_sqrt_two.lean\", \"lean\": \"import Mathlib\\\\n\\\\ntheorem irrational_sqrt_two : Irrational (√2) := by \\\\n  apply irrational_sqrt_two\"}'}, 'index': 0, 'id': 'call_db1577f571f944ec908154', 'type': 'function'}]} response_metadata={'model_name': 'qwen-max', 'finish_reason': 'tool_calls', 'request_id': '9f9837c1-b042-9f1c-b9cc-215e1e750509', 'token_usage': {'input_tokens': 3168, 'output_tokens': 55, 'total_tokens': 3223, 'prompt_tokens_details': {'cached_tokens': 0}}} id='run--1ead0ab0-b3cd-445b-ad0a-b607769d9b76-0' tool_calls=[{'name': 'save', 'args': {'filename': 'irrational_sqrt_two.lean', 'lean': 'import Mathlib\\n\\ntheorem irrational_sqrt_two : Irrational (√2) := by \\n  apply irrational_sqrt_two'}, 'id': 'call_db1577f571f944ec908154', 'type': 'tool_call'}]\n",
                        "文档已保存至: irrational_sqrt_two.lean\n"
                    ]
                }
            ],
            "source": [
                "res=await agent.ainvoke({\"initMessages\":[HumanMessage(content=\"为什么根号二不是有理数？\")]},config = {\"recursion_limit\": 100})"
            ]
        },
        {
            "cell_type": "code",
            "execution_count": 13,
            "id": "71bcf298",
            "metadata": {},
            "outputs": [
                {
                    "data": {
                        "text/plain": [
                            "{'initMessages': [HumanMessage(content='为什么根号二不是有理数？', additional_kwargs={}, response_metadata={}, id='34e5a7da-b330-4f15-81f9-742ebeec1beb'),\n",
                            "  AIMessage(content='', additional_kwargs={'tool_calls': [{'function': {'name': 'updateLeanState', 'arguments': '{\"stateName\": \"query\", \"text\": \"为什么根号二不是有理数？\"}'}, 'index': 0, 'id': 'call_797a2ae84f5842299f8916', 'type': 'function'}]}, response_metadata={'model_name': 'qwen-max', 'finish_reason': 'tool_calls', 'request_id': '87b1888d-606e-9959-a4fa-48ee09d78476', 'token_usage': {'input_tokens': 812, 'output_tokens': 30, 'total_tokens': 842, 'prompt_tokens_details': {'cached_tokens': 0}}}, id='run--0a036b1f-a7f6-404a-af21-6a1398a28947-0', tool_calls=[{'name': 'updateLeanState', 'args': {'stateName': 'query', 'text': '为什么根号二不是有理数？'}, 'id': 'call_797a2ae84f5842299f8916', 'type': 'tool_call'}]),\n",
                            "  ToolMessage(content='leanState更新完成，更新了query', name='updateLeanState', id='2f370e24-d326-4842-a475-15165890b406', tool_call_id='call_797a2ae84f5842299f8916'),\n",
                            "  AIMessage(content='', additional_kwargs={'tool_calls': [{'function': {'name': 'search_lean_theorem', 'arguments': '{\"query_str\": \"irrational sqrt 2\"}'}, 'index': 0, 'id': 'call_c25f8530c94e44529d3297', 'type': 'function'}]}, response_metadata={'model_name': 'qwen-max', 'finish_reason': 'tool_calls', 'request_id': '4f159826-4f24-9506-9534-8a324ca1c6aa', 'token_usage': {'input_tokens': 861, 'output_tokens': 29, 'total_tokens': 890, 'prompt_tokens_details': {'cached_tokens': 512}}}, id='run--40b0dd71-9092-4236-8432-87ceae01a2b9-0', tool_calls=[{'name': 'search_lean_theorem', 'args': {'query_str': 'irrational sqrt 2'}, 'id': 'call_c25f8530c94e44529d3297', 'type': 'tool_call'}]),\n",
                            "  ToolMessage(content='[{\"id\": 103650, \"theorem_name\": \"irrational_sqrt_two\", \"display_statement\": \"theorem irrational_sqrt_two : Irrational (√2)\", \"docstring\": \"**Irrationality of the Square Root of 2** \", \"informal_description\": \"The square root of 2 is irrational.\", \"source_file\": \"Mathlib/Data/Real/Irrational.lean\", \"range_start_line\": 132}, {\"id\": 57515, \"theorem_name\": \"Real.sqrtTwoAddSeries_two\", \"display_statement\": \"theorem sqrtTwoAddSeries_two : sqrtTwoAddSeries 0 2 = √(2 + √2)\", \"docstring\": null, \"informal_description\": \"The $0$-th term of the sequence defined by the recursive relation $a_0 = x$ and $a_{n+1} = \\\\\\\\sqrt{2 + a_n}$, when the initial value $x$ is $2$, is equal to $\\\\\\\\sqrt{2 + \\\\\\\\sqrt{2}}$.\", \"source_file\": \"Mathlib/Analysis/SpecialFunctions/Trigonometric/Basic.lean\", \"range_start_line\": 625}, {\"id\": 103919, \"theorem_name\": \"Real.sqrt_sq\", \"display_statement\": \"theorem sqrt_sq (h : 0 ≤ x) : √(x ^ 2) = x\", \"docstring\": null, \"informal_description\": \"For any nonnegative real number $x$, the square root of $x^2$ is equal to $x$; that is, $\\\\\\\\sqrt{x^2} = x$.\", \"source_file\": \"Mathlib/Data/Real/Sqrt.lean\", \"range_start_line\": 159}, {\"id\": 103918, \"theorem_name\": \"Real.sq_sqrt\", \"display_statement\": \"theorem sq_sqrt (h : 0 ≤ x) : √x ^ 2 = x\", \"docstring\": null, \"informal_description\": \"For any nonnegative real number $x$, the square of its square root is equal to $x$; that is, $(\\\\\\\\sqrt{x})^2 = x$ for $x \\\\\\\\ge 0$.\", \"source_file\": \"Mathlib/Data/Real/Sqrt.lean\", \"range_start_line\": 156}, {\"id\": 77719, \"theorem_name\": \"Behrend.log_two_mul_two_le_sqrt_log_eight\", \"display_statement\": \"theorem log_two_mul_two_le_sqrt_log_eight : log 2 * 2 ≤ √(log 8)\", \"docstring\": null, \"informal_description\": \"The theorem states that $\\\\\\\\log(2) \\\\\\\\cdot 2 \\\\\\\\le \\\\\\\\sqrt{\\\\\\\\log(8)}$, where the logarithm is base $e$.\", \"source_file\": \"Mathlib/Combinatorics/Additive/AP/Three/Behrend.lean\", \"range_start_line\": 276}, {\"id\": 103883, \"theorem_name\": \"NNReal.sqrt\", \"display_statement\": \"noncomputable def sqrt : ℝ≥0 ≃o ℝ≥0 :=\\\\n  OrderIso.symm <| powOrderIso 2 two_ne_zero\", \"docstring\": \"Square root of a nonnegative real number. \", \"informal_description\": \"The square root function is defined as an order isomorphism between the nonnegative real numbers and itself. It is the inverse of the function that maps a nonnegative real number $x$ to its square $x^2$, where this squaring function is viewed as an order isomorphism.\", \"source_file\": \"Mathlib/Data/Real/Sqrt.lean\", \"range_start_line\": 40}]', name='search_lean_theorem', id='ed21e50a-8eea-4ec3-ac07-e0f0919f1108', tool_call_id='call_c25f8530c94e44529d3297'),\n",
                            "  AIMessage(content='', additional_kwargs={'tool_calls': [{'function': {'name': 'updateLeanState', 'arguments': '{\"stateName\": \"leanTheorem\", \"text\": \"在Lean中，存在一个定理`irrational_sqrt_two`表明根号二是无理数。该定理的形式化表述为：\\\\n\\\\n```lean\\\\ntheorem irrational_sqrt_two : Irrational (√2)\\\\n```\\\\n\\\\n这表示√2是一个无理数。\"}'}, 'index': 0, 'id': 'call_cce720ace9f240c79520dc', 'type': 'function'}]}, response_metadata={'model_name': 'qwen-max', 'finish_reason': 'tool_calls', 'request_id': '313b429f-cd55-9c43-aaf8-72c4a7ccd0a1', 'token_usage': {'input_tokens': 1707, 'output_tokens': 90, 'total_tokens': 1797, 'prompt_tokens_details': {'cached_tokens': 0}}}, id='run--9bcc73cf-2d63-43e4-9ccc-d54058faba9d-0', tool_calls=[{'name': 'updateLeanState', 'args': {'stateName': 'leanTheorem', 'text': '在Lean中，存在一个定理`irrational_sqrt_two`表明根号二是无理数。该定理的形式化表述为：\\n\\n```lean\\ntheorem irrational_sqrt_two : Irrational (√2)\\n```\\n\\n这表示√2是一个无理数。'}, 'id': 'call_cce720ace9f240c79520dc', 'type': 'tool_call'}]),\n",
                            "  ToolMessage(content='leanState更新完成，更新了leanTheorem', name='updateLeanState', id='6a0bc1fa-7445-4dd3-aa44-79d49eaf1ec3', tool_call_id='call_cce720ace9f240c79520dc'),\n",
                            "  AIMessage(content='', additional_kwargs={'tool_calls': [{'function': {'name': 'ddgs_search', 'arguments': '{\"query_str\": \"为什么根号二不是有理数\"}'}, 'index': 0, 'id': 'call_c5119a8b309b4d95bd6499', 'type': 'function'}]}, response_metadata={'model_name': 'qwen-max', 'finish_reason': 'tool_calls', 'request_id': '21fbf21e-ae14-9dc0-82c5-70b88a6252a5', 'token_usage': {'input_tokens': 1815, 'output_tokens': 26, 'total_tokens': 1841, 'prompt_tokens_details': {'cached_tokens': 512}}}, id='run--2c4f67c7-d58c-4057-be42-72c98620a879-0', tool_calls=[{'name': 'ddgs_search', 'args': {'query_str': '为什么根号二不是有理数'}, 'id': 'call_c5119a8b309b4d95bd6499', 'type': 'tool_call'}]),\n",
                            "  ToolMessage(content='[{\"snippet\": \"2025/07/02 — 在数学中，有理数（rational number）的定义是：可以表示为两个整数比的数；此处的整数比写为分数形式 a b {\\\\\\\\displaystyle {\\\\\\\\frac {a}{b}}} {\\\\\\\\displaystyle {\\\\\\\\frac {a}{b}}} ...\", \"title\": \"有理数- 维基百科，自由的百科全书\", \"link\": \"https://zh.wikipedia.org/zh-cn/有理数\"}, {\"snippet\": \"April 20, 2025 - 2的算術平方根，俗称“根号2”，记作 ... {\\\\\\\\displaystyle {\\\\\\\\sqrt {2}}} ，可能是最早被发现的无理数。相传毕达哥拉斯学派的希帕索斯首先提出了“ ... {\\\\\\\\displaystyle {\\\\\\\\sqrt {2}}} 不是有理数”的命题：若一个直角三角形的两个直角边...\", \"title\": \"2的算術平方根 - 维基百科，自由的百科全书\", \"link\": \"https://zh.wikipedia.org/wiki/2的算術平方根\"}, {\"snippet\": \"November 25, 2024 - 在数学中，根号被用来表示一个数 x 的平方根或 n 次方根，分别写作 ... {\\\\\\\\displaystyle {\\\\\\\\sqrt[{n}]{x}}} ，分别读作“二次根号 x ”及“ n 次根号 x ”。有时在文字系统不支援数学式的时候，会使用“√”来代替平方根。 · ...\", \"title\": \"根号 - 维基百科，自由的百科全书\", \"link\": \"https://zh.wikipedia.org/zh-hans/根号\"}, {\"snippet\": \"May 2, 2025 - 无理数（irrational number）是指有理数以外的实数，当中的“理”字来自于拉丁语的rationalis，意思是“理解”，实际是拉丁文对于logos“说明”的翻译，是指无法用两整数之比来说明的无理数。 · 非有理数之实数不能写作两...\", \"title\": \"无理数 - 维基百科，自由的百科全书\", \"link\": \"https://zh.wikipedia.org/zh-cn/無理數\"}]', name='ddgs_search', id='eb8c5586-7d75-4628-99db-f2ec3f41bd5f', tool_call_id='call_c5119a8b309b4d95bd6499'),\n",
                            "  AIMessage(content='', additional_kwargs={'tool_calls': [{'function': {'name': 'updateLeanState', 'arguments': '{\"stateName\": \"background\", \"text\": \"根号二，即√2，是最早被发现的无理数之一。相传毕达哥拉斯学派的希帕索斯首次提出了“√2不是有理数”的命题。在数学中，有理数是指可以表示为两个整数比（分数形式）的数，而无理数则是不能够精确地表示为任何两个整数比例的实数。证明√2是无理数的方法通常是采用反证法：假设√2是有理数，并由此导出矛盾，从而证明了√2实际上是无理数。\"}'}, 'index': 0, 'id': 'call_a4883763c14b4c73a37a08', 'type': 'function'}]}, response_metadata={'model_name': 'qwen-max', 'finish_reason': 'tool_calls', 'request_id': 'e498b0cd-7e1a-9750-9349-b16d152b50f3', 'token_usage': {'input_tokens': 2363, 'output_tokens': 147, 'total_tokens': 2510, 'prompt_tokens_details': {'cached_tokens': 512}}}, id='run--de8f4da4-e4ef-439c-bff6-fad587996dba-0', tool_calls=[{'name': 'updateLeanState', 'args': {'stateName': 'background', 'text': '根号二，即√2，是最早被发现的无理数之一。相传毕达哥拉斯学派的希帕索斯首次提出了“√2不是有理数”的命题。在数学中，有理数是指可以表示为两个整数比（分数形式）的数，而无理数则是不能够精确地表示为任何两个整数比例的实数。证明√2是无理数的方法通常是采用反证法：假设√2是有理数，并由此导出矛盾，从而证明了√2实际上是无理数。'}, 'id': 'call_a4883763c14b4c73a37a08', 'type': 'tool_call'}]),\n",
                            "  ToolMessage(content='leanState更新完成，更新了background', name='updateLeanState', id='f0c2809e-a774-481b-ba46-3482eba1cb13', tool_call_id='call_a4883763c14b4c73a37a08'),\n",
                            "  AIMessage(content='现在已经将您的问题“为什么根号二不是有理数？”转换为Lean形式的表述，并找到了相关的背景知识和Lean定理信息。根据这些信息，我们知道根号二是无理数这一点通过反证法可以证明；而在Lean中，存在一个名为`irrational_sqrt_two`的定理直接表明了√2是一个无理数。此外，我们了解到根号二作为最早被发现的无理数之一，在数学史上具有重要意义。\\n\\n如果您需要进一步的帮助，例如了解如何使用Lean来正式证明这一结论或对相关概念有更深入的理解，请随时告诉我！', additional_kwargs={}, response_metadata={'model_name': 'qwen-max', 'finish_reason': 'stop', 'request_id': '04276210-0d90-92fb-bc0b-ab767f7011eb', 'token_usage': {'input_tokens': 2525, 'output_tokens': 131, 'total_tokens': 2656, 'prompt_tokens_details': {'cached_tokens': 0}}}, id='run--65125210-8988-4e3c-abb6-fecd0e34f780-0')],\n",
                            " 'proverMessages': {'hf.co/DevQuasar/AI-MO.Kimina-Prover-Preview-Distill-7B-GGUF:Q4_K_M_0': AIMessage(content='# 证明$\\\\sqrt{2}$是无理数\\n\\n## 简介\\n\\n证明$\\\\sqrt{2}$是无理数的方法通常使用反证法，假设$\\\\sqrt{2}$是一个有理数，并推导出矛盾。\\n\\n在Lean中，已经有一个现成的定理`irrational_sqrt_two`证明了$\\\\sqrt{2}$是无理数。这个定理属于数学库Mathlib中的数论部分。\\n\\n首先，我们需要引入Mathlib库：\\n\\n```tactics\\nimport Mathlib\\n```\\n\\n接下来，我们可以直接使用这个定理：\\n\\n```tactics\\ntheorem irrational_sqrt_two : Irrational (√2) := by\\n```\\n\\n现在需要证明这个定理成立。在Lean中，证明一个数是无理数通常需要构造一个具体的矛盾，而不是简单地使用某种形式的反证法。具体来说，对于$\\\\sqrt{2}$的无理性证明，我们需要：\\n\\n1. 假设$\\\\sqrt{2}$是一个有理数\\n2. 这个有理数可以表示为两个互质的整数的分数形式\\n3. 通过平方运算，得到$2 = \\\\frac{p^2}{q^2}$，其中$p$和$q$是互质的整数\\n4. 进而得到$p^2 = 2q^2$\\n5. 这意味着$p^2$是偶数，因此$p$必须是偶数（因为奇数平方后是奇数）\\n6. 设$p = 2k$，代入得到$(2k)^2 = 2q^2$ → $4k^2 = 2q^2$ → $2k^2 = q^2$\\n7. 这意味着$q^2$是偶数，因此$q$同样为偶数\\n8. 但这样$p$和$q$都是偶数，这与它们互质的假设矛盾\\n\\n在Lean中，这个证明可能通过构造一个具体的矛盾来完成，例如：\\n\\n```tactics\\nnative_decide\\n```\\n\\n`native_decide`是Lean中的一个强大工具，它可以直接计算并验证某些数学事实。对于$\\\\sqrt{2}$的无理性来说，Lean可能使用的是另一个已经证明了无理性的数，比如$\\\\sqrt{3}$等。\\n\\n或者，更可能的是，Lean通过代数方法证明，如果$\\\\sqrt{2}$是无理数，则会导致矛盾。例如：\\n\\n```tactics\\napply irrational_sqrt_two\\n```\\n\\n这可能是直接应用Mathlib库中的定理，而定理的证明可能使用了反证法结合数论方法。\\n\\n综上所述，虽然我们通常会将证明$\\\\sqrt{2}$是无理数的步骤描述为反证法，但严格来说，这个定理在Lean中已经作为库定理存在，并且被直接使用。因此，我们的证明可以非常简洁地完成。\\n\\n# 参考：\\n\\n- math.stackexchange.com\\n- mathlibmatt.com\\n- https://en.wikipedia.org/wiki/irrationality_of_sqrt(2)\\n- https://math.stackexchange.com/questions/735049/a-combinatorial-proo\\n\\n# tree\\n\\n{  \"leaves\":   [  {    \" leaf_id\":   \"lean证明\",    \" content\":      \"import Mathlib      theorem irrational_sqrt_two : Irrational (√2) := by        native_decide   } ,   {    \" leaf_id\":   \"lean解释\",    \" content\":      \"在Lean中，已经有一个现成的定理`irrational_sqrt_two`证明了√2是无理数。这个定理属于数学库Mathlib中的数论部分。        证明方法通常使用反证法，假设√2是一个有理数，并推导出矛盾。        具体来说，对于√2的无理性证明，需要：        1. 假设√2是一个有理数        2. 这个有理数可以表示为两个互质的整数的分数形式        3. 通过平方运算，得到2 = p²/q²，其中p和q是互质的整数        4. 进而得到p² = 2q²        5. 这意味着p²是偶数，因此p必须是偶数（因为奇数平方后是奇数）        6. 设p = 2k，代入得到(2k)² = 2q² → 4k² = 2q² → 2k² = q²        7. 这意味着q²是偶数，因此q同样为偶数        8. 但这样p和q都是偶数，这与它们互质的假设矛盾        Lean可能使用代数方法证明，如果√2是无理数，则会导致矛盾。        因此，我们的证明可以非常简洁地完成。        native_decide      } ] }\\n</think>\\n```lean\\nimport Mathlib\\n\\ntheorem irrational_sqrt_two : Irrational (√2) := by \\n  native_decide\\n```\\n', additional_kwargs={}, response_metadata={'model': 'hf.co/DevQuasar/AI-MO.Kimina-Prover-Preview-Distill-7B-GGUF:Q4_K_M', 'created_at': '2025-07-28T01:18:20.7073119Z', 'done': True, 'done_reason': 'stop', 'total_duration': 191529381000, 'load_duration': 143831997100, 'prompt_eval_count': 345, 'prompt_eval_duration': 331835600, 'eval_count': 1087, 'eval_duration': 47364175000, 'model_name': 'hf.co/DevQuasar/AI-MO.Kimina-Prover-Preview-Distill-7B-GGUF:Q4_K_M'}, id='run--ff4d9aa7-4d07-48be-81f8-c1c9e3a225a0-0', usage_metadata={'input_tokens': 345, 'output_tokens': 1087, 'total_tokens': 1432})},\n",
                            " 'agentMessages': [AIMessage(content='', additional_kwargs={'tool_calls': [{'function': {'name': 'update_leaf_message', 'arguments': '{\"lean\": \"import Mathlib\\\\n\\\\ntheorem irrational_sqrt_two : Irrational (√2) := by \\\\n  native_decide\"}'}, 'index': 0, 'id': 'call_c077edbc9931402897dbf8', 'type': 'function'}]}, response_metadata={'model_name': 'qwen-max', 'finish_reason': 'tool_calls', 'request_id': '9ff7e884-6203-9ae0-968b-d0c013043d3c', 'token_usage': {'input_tokens': 2778, 'output_tokens': 38, 'total_tokens': 2816, 'prompt_tokens_details': {'cached_tokens': 0}}}, id='run--29a353c4-346e-4195-9078-0ea24a18215f-0', tool_calls=[{'name': 'update_leaf_message', 'args': {'lean': 'import Mathlib\\n\\ntheorem irrational_sqrt_two : Irrational (√2) := by \\n  native_decide'}, 'id': 'call_c077edbc9931402897dbf8', 'type': 'tool_call'}]),\n",
                            "  ToolMessage(content='leanMessages 已更新了节点 12d6e0dd-7cb5-48aa-8140-63eda9d2258f', name='update_leaf_message', id='5ecc2acf-575d-47ce-aeb4-aae815d17f1f', tool_call_id='call_c077edbc9931402897dbf8'),\n",
                            "  AIMessage(content='', additional_kwargs={'tool_calls': [{'function': {'name': 'delete_leaf_message', 'arguments': '{\"leaf_id\": \"12d6e0dd-7cb5-48aa-8140-63eda9d2258f\"}'}, 'index': 0, 'id': 'call_db7c49fce9f344a286a79f', 'type': 'function'}]}, response_metadata={'model_name': 'qwen-max', 'finish_reason': 'tool_calls', 'request_id': 'a121d2fd-2670-9ba5-ad91-8f590f8b8572', 'token_usage': {'input_tokens': 2977, 'output_tokens': 51, 'total_tokens': 3028, 'prompt_tokens_details': {'cached_tokens': 0}}}, id='run--38f6a73d-fda7-4221-8c64-80f5f141ef1c-0', tool_calls=[{'name': 'delete_leaf_message', 'args': {'leaf_id': '12d6e0dd-7cb5-48aa-8140-63eda9d2258f'}, 'id': 'call_db7c49fce9f344a286a79f', 'type': 'tool_call'}]),\n",
                            "  ToolMessage(content=\"叶子节点ID '12d6e0dd-7cb5-48aa-8140-63eda9d2258f'已成功删除\", name='delete_leaf_message', id='f48f9781-a887-4363-b9a9-370f25f51872', tool_call_id='call_db7c49fce9f344a286a79f'),\n",
                            "  AIMessage(content='', additional_kwargs={'tool_calls': [{'function': {'name': 'update_leaf_message', 'arguments': '{\"lean\": \"import Mathlib\\\\n\\\\ntheorem irrational_sqrt_two : Irrational (√2) := by \\\\n  apply irrational_sqrt_two\"}'}, 'index': 0, 'id': 'call_d3404deef4dd4a43af67f1', 'type': 'function'}]}, response_metadata={'model_name': 'qwen-max', 'finish_reason': 'tool_calls', 'request_id': '9b212f5f-869e-9cba-b39f-33b6ff330f26', 'token_usage': {'input_tokens': 2966, 'output_tokens': 46, 'total_tokens': 3012, 'prompt_tokens_details': {'cached_tokens': 0}}}, id='run--3df48e3a-93e2-458c-80c9-180ebeeff7de-0', tool_calls=[{'name': 'update_leaf_message', 'args': {'lean': 'import Mathlib\\n\\ntheorem irrational_sqrt_two : Irrational (√2) := by \\n  apply irrational_sqrt_two'}, 'id': 'call_d3404deef4dd4a43af67f1', 'type': 'tool_call'}]),\n",
                            "  ToolMessage(content='leanMessages 已更新了节点 d442200d-2d1b-4851-bcf3-f5d18abbf6e4', name='update_leaf_message', id='af3662ca-9397-4271-af21-466eb95e92bb', tool_call_id='call_d3404deef4dd4a43af67f1'),\n",
                            "  AIMessage(content='', additional_kwargs={'tool_calls': [{'function': {'name': 'save', 'arguments': '{\"filename\": \"irrational_sqrt_two.lean\", \"lean\": \"import Mathlib\\\\n\\\\ntheorem irrational_sqrt_two : Irrational (√2) := by \\\\n  apply irrational_sqrt_two\"}'}, 'index': 0, 'id': 'call_db1577f571f944ec908154', 'type': 'function'}]}, response_metadata={'model_name': 'qwen-max', 'finish_reason': 'tool_calls', 'request_id': '9f9837c1-b042-9f1c-b9cc-215e1e750509', 'token_usage': {'input_tokens': 3168, 'output_tokens': 55, 'total_tokens': 3223, 'prompt_tokens_details': {'cached_tokens': 0}}}, id='run--1ead0ab0-b3cd-445b-ad0a-b607769d9b76-0', tool_calls=[{'name': 'save', 'args': {'filename': 'irrational_sqrt_two.lean', 'lean': 'import Mathlib\\n\\ntheorem irrational_sqrt_two : Irrational (√2) := by \\n  apply irrational_sqrt_two'}, 'id': 'call_db1577f571f944ec908154', 'type': 'tool_call'}]),\n",
                            "  ToolMessage(content=\"文档已成功保存至 'irrational_sqrt_two.lean'。\", name='save', id='f2996364-a409-4338-bb66-7562f4f78db8', tool_call_id='call_db1577f571f944ec908154')]}"
                        ]
                    },
                    "execution_count": 13,
                    "metadata": {},
                    "output_type": "execute_result"
                }
            ],
            "source": [
                "res"
            ]
        },
        {
            "cell_type": "code",
            "execution_count": null,
            "id": "16fc4e90",
            "metadata": {},
            "outputs": [
                {
                    "data": {
                        "text/plain": [
                            "{'query': '为什么根号二不是有理数？',\n",
                            " 'leanQuery': 'sqrt(2) ∉ ℚ',\n",
                            " 'background': '根号二，即√2，是最早被发现的无理数之一。相传毕达哥拉斯学派的希帕索斯首次提出了“√2不是有理数”的命题。在数学中，有理数是指可以表示为两个整数比（分数形式）的数，而无理数则是不能够精确地表示为任何两个整数比例的实数。证明√2是无理数的方法通常是采用反证法：假设√2是有理数，并由此导出矛盾，从而证明了√2实际上是无理数。',\n",
                            " 'leanTheorem': '在Lean中，存在一个定理`irrational_sqrt_two`表明根号二是无理数。该定理的形式化表述为：\\n\\n```lean\\ntheorem irrational_sqrt_two : Irrational (√2)\\n```\\n\\n这表示√2是一个无理数。'}"
                        ]
                    },
                    "execution_count": 14,
                    "metadata": {},
                    "output_type": "execute_result"
                }
            ],
            "source": [
                "leanState"
            ]
        },
        {
            "cell_type": "code",
            "execution_count": 15,
            "id": "01b7f473",
            "metadata": {},
            "outputs": [
                {
                    "data": {
                        "text/plain": [
                            "{'leaves': {'d442200d-2d1b-4851-bcf3-f5d18abbf6e4': ['import Mathlib\\n\\ntheorem irrational_sqrt_two : Irrational (√2) := by \\n  apply irrational_sqrt_two',\n",
                            "   CommandResponse(env=2, messages=[Message(end_pos=Pos(line=3, column=27), severity='error', data=\"'irrational_sqrt_two' has already been declared\", start_pos=Pos(line=3, column=8))])]}}"
                        ]
                    },
                    "execution_count": 15,
                    "metadata": {},
                    "output_type": "execute_result"
                }
            ],
            "source": [
                "tree"
            ]
        },
        {
            "cell_type": "code",
            "execution_count": null,
            "id": "13b75f90",
            "metadata": {},
            "outputs": [
                {
                    "data": {
                        "text/plain": [
                            "CommandResponse(env=1)"
                        ]
                    },
                    "execution_count": 17,
                    "metadata": {},
                    "output_type": "execute_result"
                }
            ],
            "source": [
                "server.run(Command(cmd=\"\"\"import Mathlib\n",
                "\n",
                "example : Irrational (√2) := by \n",
                "  apply irrational_sqrt_two\"\"\"))\n"
            ]
        },
        {
            "cell_type": "markdown",
            "id": "86694541",
            "metadata": {},
            "source": [
                "## lean\n",
                "1. 交互性\n",
                "2. 从lean模型到自然语言模型\n"
            ]
        }
    ],
    "metadata": {
        "kernelspec": {
            "display_name": "Python 3",
            "language": "python",
            "name": "python3"
        },
        "language_info": {
            "codemirror_mode": {
                "name": "ipython",
                "version": 3
            },
            "file_extension": ".py",
            "mimetype": "text/x-python",
            "name": "python",
            "nbconvert_exporter": "python",
            "pygments_lexer": "ipython3",
            "version": "3.11.13"
        }
    },
    "nbformat": 4,
    "nbformat_minor": 5
}
