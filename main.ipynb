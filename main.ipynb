{
    "cells": [
        {
            "cell_type": "code",
            "execution_count": null,
            "id": "17bc21c4",
            "metadata": {},
            "outputs": [
                {
                    "data": {
                        "text/html": [
                            "<pre style=\"white-space:pre;overflow-x:auto;line-height:normal;font-family:Menlo,'DejaVu Sans Mono',consolas,'Courier New',monospace\"><span style=\"color: #7fbfbf; text-decoration-color: #7fbfbf\">[23:17:16] </span><span style=\"color: #000080; text-decoration-color: #000080\">INFO    </span> For optimal use on Windows, enable long paths by running this command as            <a href=\"file://d:\\git_clone\\LEL\\.pixi\\envs\\default\\Lib\\site-packages\\lean_interact\\utils.py\" target=\"_blank\"><span style=\"color: #7f7f7f; text-decoration-color: #7f7f7f\">utils.py</span></a><span style=\"color: #7f7f7f; text-decoration-color: #7f7f7f\">:</span><a href=\"file://d:\\git_clone\\LEL\\.pixi\\envs\\default\\Lib\\site-packages\\lean_interact\\utils.py#93\" target=\"_blank\"><span style=\"color: #7f7f7f; text-decoration-color: #7f7f7f\">93</span></a>\n",
                            "<span style=\"color: #7fbfbf; text-decoration-color: #7fbfbf\">           </span>         administrator:                                                                      <span style=\"color: #7f7f7f; text-decoration-color: #7f7f7f\">           </span>\n",
                            "</pre>\n"
                        ],
                        "text/plain": [
                            "\u001b[2;36m[23:17:16]\u001b[0m\u001b[2;36m \u001b[0m\u001b[34mINFO    \u001b[0m For optimal use on Windows, enable long paths by running this command as            \u001b]8;id=167108;file://d:\\git_clone\\LEL\\.pixi\\envs\\default\\Lib\\site-packages\\lean_interact\\utils.py\u001b\\\u001b[2mutils.py\u001b[0m\u001b]8;;\u001b\\\u001b[2m:\u001b[0m\u001b]8;id=432229;file://d:\\git_clone\\LEL\\.pixi\\envs\\default\\Lib\\site-packages\\lean_interact\\utils.py#93\u001b\\\u001b[2m93\u001b[0m\u001b]8;;\u001b\\\n",
                            "\u001b[2;36m           \u001b[0m         administrator:                                                                      \u001b[2m           \u001b[0m\n"
                        ]
                    },
                    "metadata": {},
                    "output_type": "display_data"
                },
                {
                    "data": {
                        "text/html": [
                            "<pre style=\"white-space:pre;overflow-x:auto;line-height:normal;font-family:Menlo,'DejaVu Sans Mono',consolas,'Courier New',monospace\"><span style=\"color: #7fbfbf; text-decoration-color: #7fbfbf\">           </span><span style=\"color: #000080; text-decoration-color: #000080\">INFO    </span> New-ItemProperty -Path <span style=\"color: #008000; text-decoration-color: #008000\">\"HKLM:\\SYSTEM\\CurrentControlSet\\Control\\FileSystem\"</span> -Name    <a href=\"file://d:\\git_clone\\LEL\\.pixi\\envs\\default\\Lib\\site-packages\\lean_interact\\utils.py\" target=\"_blank\"><span style=\"color: #7f7f7f; text-decoration-color: #7f7f7f\">utils.py</span></a><span style=\"color: #7f7f7f; text-decoration-color: #7f7f7f\">:</span><a href=\"file://d:\\git_clone\\LEL\\.pixi\\envs\\default\\Lib\\site-packages\\lean_interact\\utils.py#94\" target=\"_blank\"><span style=\"color: #7f7f7f; text-decoration-color: #7f7f7f\">94</span></a>\n",
                            "<span style=\"color: #7fbfbf; text-decoration-color: #7fbfbf\">           </span>         LongPathsEnabled -Value <span style=\"color: #008080; text-decoration-color: #008080; font-weight: bold\">1</span> -PropertyType DWord -Force                                <span style=\"color: #7f7f7f; text-decoration-color: #7f7f7f\">           </span>\n",
                            "</pre>\n"
                        ],
                        "text/plain": [
                            "\u001b[2;36m          \u001b[0m\u001b[2;36m \u001b[0m\u001b[34mINFO    \u001b[0m New-ItemProperty -Path \u001b[32m\"HKLM:\\SYSTEM\\CurrentControlSet\\Control\\FileSystem\"\u001b[0m -Name    \u001b]8;id=813778;file://d:\\git_clone\\LEL\\.pixi\\envs\\default\\Lib\\site-packages\\lean_interact\\utils.py\u001b\\\u001b[2mutils.py\u001b[0m\u001b]8;;\u001b\\\u001b[2m:\u001b[0m\u001b]8;id=189152;file://d:\\git_clone\\LEL\\.pixi\\envs\\default\\Lib\\site-packages\\lean_interact\\utils.py#94\u001b\\\u001b[2m94\u001b[0m\u001b]8;;\u001b\\\n",
                            "\u001b[2;36m           \u001b[0m         LongPathsEnabled -Value \u001b[1;36m1\u001b[0m -PropertyType DWord -Force                                \u001b[2m           \u001b[0m\n"
                        ]
                    },
                    "metadata": {},
                    "output_type": "display_data"
                },
                {
                    "data": {
                        "text/html": [
                            "<pre style=\"white-space:pre;overflow-x:auto;line-height:normal;font-family:Menlo,'DejaVu Sans Mono',consolas,'Courier New',monospace\"><span style=\"color: #7fbfbf; text-decoration-color: #7fbfbf\">           </span><span style=\"color: #000080; text-decoration-color: #000080\">INFO    </span> For optimal use on Windows, configure git for long paths by running:               <a href=\"file://d:\\git_clone\\LEL\\.pixi\\envs\\default\\Lib\\site-packages\\lean_interact\\utils.py\" target=\"_blank\"><span style=\"color: #7f7f7f; text-decoration-color: #7f7f7f\">utils.py</span></a><span style=\"color: #7f7f7f; text-decoration-color: #7f7f7f\">:</span><a href=\"file://d:\\git_clone\\LEL\\.pixi\\envs\\default\\Lib\\site-packages\\lean_interact\\utils.py#112\" target=\"_blank\"><span style=\"color: #7f7f7f; text-decoration-color: #7f7f7f\">112</span></a>\n",
                            "</pre>\n"
                        ],
                        "text/plain": [
                            "\u001b[2;36m          \u001b[0m\u001b[2;36m \u001b[0m\u001b[34mINFO    \u001b[0m For optimal use on Windows, configure git for long paths by running:               \u001b]8;id=536805;file://d:\\git_clone\\LEL\\.pixi\\envs\\default\\Lib\\site-packages\\lean_interact\\utils.py\u001b\\\u001b[2mutils.py\u001b[0m\u001b]8;;\u001b\\\u001b[2m:\u001b[0m\u001b]8;id=735213;file://d:\\git_clone\\LEL\\.pixi\\envs\\default\\Lib\\site-packages\\lean_interact\\utils.py#112\u001b\\\u001b[2m112\u001b[0m\u001b]8;;\u001b\\\n"
                        ]
                    },
                    "metadata": {},
                    "output_type": "display_data"
                },
                {
                    "data": {
                        "text/html": [
                            "<pre style=\"white-space:pre;overflow-x:auto;line-height:normal;font-family:Menlo,'DejaVu Sans Mono',consolas,'Courier New',monospace\"><span style=\"color: #7fbfbf; text-decoration-color: #7fbfbf\">           </span><span style=\"color: #000080; text-decoration-color: #000080\">INFO    </span> git config --global core.longpaths true                                            <a href=\"file://d:\\git_clone\\LEL\\.pixi\\envs\\default\\Lib\\site-packages\\lean_interact\\utils.py\" target=\"_blank\"><span style=\"color: #7f7f7f; text-decoration-color: #7f7f7f\">utils.py</span></a><span style=\"color: #7f7f7f; text-decoration-color: #7f7f7f\">:</span><a href=\"file://d:\\git_clone\\LEL\\.pixi\\envs\\default\\Lib\\site-packages\\lean_interact\\utils.py#113\" target=\"_blank\"><span style=\"color: #7f7f7f; text-decoration-color: #7f7f7f\">113</span></a>\n",
                            "</pre>\n"
                        ],
                        "text/plain": [
                            "\u001b[2;36m          \u001b[0m\u001b[2;36m \u001b[0m\u001b[34mINFO    \u001b[0m git config --global core.longpaths true                                            \u001b]8;id=673247;file://d:\\git_clone\\LEL\\.pixi\\envs\\default\\Lib\\site-packages\\lean_interact\\utils.py\u001b\\\u001b[2mutils.py\u001b[0m\u001b]8;;\u001b\\\u001b[2m:\u001b[0m\u001b]8;id=656045;file://d:\\git_clone\\LEL\\.pixi\\envs\\default\\Lib\\site-packages\\lean_interact\\utils.py#113\u001b\\\u001b[2m113\u001b[0m\u001b]8;;\u001b\\\n"
                        ]
                    },
                    "metadata": {},
                    "output_type": "display_data"
                },
                {
                    "name": "stdout",
                    "output_type": "stream",
                    "text": [
                        "API Client initialized.\n"
                    ]
                },
                {
                    "data": {
                        "text/plain": [
                            "True"
                        ]
                    },
                    "execution_count": 1,
                    "metadata": {},
                    "output_type": "execute_result"
                }
            ],
            "source": [
                "from dotenv import load_dotenv\n",
                "from langchain_core.messages import HumanMessage,AIMessage,BaseMessage,SystemMessage,ToolMessage\n",
                "from langgraph.graph import StateGraph,START,END\n",
                "from langgraph.graph.message import add_messages\n",
                "from langgraph.prebuilt import ToolNode\n",
                "from langchain_core.tools import tool\n",
                "import os\n",
                "from lean_interact import LeanREPLConfig, AutoLeanServer, Command,LocalProject\n",
                "from lean_interact.interface import CommandResponse\n",
                "import nest_asyncio\n",
                "from git import Repo\n",
                "from typing import Optional, TypedDict\n",
                "from langchain_google_genai import ChatGoogleGenerativeAI\n",
                "from typing import Annotated,Sequence,TypedDict,List\n",
                "from utils import *\n",
                "from typing import TypedDict, Union\n",
                "import uuid\n",
                "\n",
                "\n",
                "nest_asyncio.apply()\n",
                "load_dotenv()"
            ]
        },
        {
            "cell_type": "code",
            "execution_count": 2,
            "id": "4868b322",
            "metadata": {},
            "outputs": [
                {
                    "name": "stdout",
                    "output_type": "stream",
                    "text": [
                        "sync_store 完成\n",
                        "本地路径 ./mathlib4 已存在，跳过克隆操作。\n"
                    ]
                }
            ],
            "source": [
                "vec_store=VectorStore(r\".\\src\\src_md\",r\".\\src\\src_VectorStore\")\n",
                "retriever_tool=vec_store.retriever_tool\n",
                "#vec_store.sync_md(r\".\\src\\src_pdf\")\n",
                "\n",
                "local_repo_path = \"./mathlib4\"\n",
                "if not os.path.exists(local_repo_path):\n",
                "    print(f\"本地路径 {local_repo_path} 不存在，开始克隆 GitHub 仓库...\")\n",
                "    try:\n",
                "        # 使用 ! 执行系统命令克隆仓库\n",
                "        github_repo_url=\"https://github.com/leanprover-community/mathlib4.git\"\n",
                "        Repo.clone_from(github_repo_url, local_repo_path)\n",
                "        print(f\"GitHub 仓库 {github_repo_url} 已成功克隆到 {local_repo_path}\")\n",
                "    except Exception as e:\n",
                "        print(f\"克隆仓库时出错: {e}\")\n",
                "else:\n",
                "    print(f\"本地路径 {local_repo_path} 已存在，跳过克隆操作。\")"
            ]
        },
        {
            "cell_type": "code",
            "execution_count": null,
            "id": "48a5b21a",
            "metadata": {},
            "outputs": [
                {
                    "name": "stdout",
                    "output_type": "stream",
                    "text": [
                        "model has conneted！\n",
                        "\n"
                    ]
                },
                {
                    "data": {
                        "text/plain": [
                            "CommandResponse(env=0)"
                        ]
                    },
                    "execution_count": 3,
                    "metadata": {},
                    "output_type": "execute_result"
                }
            ],
            "source": [
                "llm=ChatGoogleGenerativeAI(\n",
                "    model=\"gemini-2.5-flash\",\n",
                "    temperature=0,\n",
                "    max_tokens=None,\n",
                "    timeout=None,\n",
                ")\n",
                "prover=Prover(model_ls=[\"AI-MO/Kimina-Prover-Preview-Distill-7B\" for i in range(2)])\n",
                "\n",
                "try:\n",
                "    llm.invoke(\"HI\")\n",
                "    print(\"model has conneted！\\n\")\n",
                "except Exception as e:\n",
                "    assert Exception(\"please check your model connect!:{e}\")\n",
                "\n",
                "config = LeanREPLConfig(project=LocalProject(local_repo_path))\n",
                "server = AutoLeanServer(config)\n",
                "server.run(Command(cmd=\"theorem ex (n : Nat) : n = 5 → n = 5 := id\"))"
            ]
        },
        {
            "cell_type": "code",
            "execution_count": 4,
            "id": "176a0858",
            "metadata": {},
            "outputs": [],
            "source": [
                "class AgentState(TypedDict):\n",
                "    initMessages: Annotated[Sequence[BaseMessage], add_messages]\n",
                "    proverMessages : dict[str,BaseMessage]\n",
                "    agentMessages : Annotated[Sequence[BaseMessage], add_messages]\n",
                "    \n",
                "class LeanState(TypedDict):\n",
                "    query : str | None \n",
                "    background : str | None \n",
                "    leanQuery : str | None\n",
                "    leanTheorem : str | None\n",
                "\n",
                "class Tree(TypedDict):\n",
                "    leaves : dict[str , list[Union[str,CommandResponse]]]"
            ]
        },
        {
            "cell_type": "code",
            "execution_count": 8,
            "id": "0b3bcf6b",
            "metadata": {},
            "outputs": [
                {
                    "name": "stdout",
                    "output_type": "stream",
                    "text": [
                        "content='Hello! How can I assist you today? 😊' additional_kwargs={'refusal': None} response_metadata={'token_usage': {'completion_tokens': 10, 'prompt_tokens': 1, 'total_tokens': 11, 'completion_tokens_details': None, 'prompt_tokens_details': None, 'thoughts_token_count': 0}, 'model_name': 'gpt-4o', 'system_fingerprint': None, 'id': 'chatcmpl-Mex1V6EPTYVRD21q1QR80VcdFRIQ3q6g', 'service_tier': None, 'finish_reason': 'stop', 'logprobs': None} id='run--d8a56588-2611-45be-a620-c73f5116ba6a-0' usage_metadata={'input_tokens': 1, 'output_tokens': 10, 'total_tokens': 11, 'input_token_details': {}, 'output_token_details': {}}\n"
                    ]
                },
                {
                    "ename": "ClientOSError",
                    "evalue": "[Errno 1] [SSL] record layer failure (_ssl.c:2590)",
                    "output_type": "error",
                    "traceback": [
                        "\u001b[31m---------------------------------------------------------------------------\u001b[39m",
                        "\u001b[31mSSLError\u001b[39m                                  Traceback (most recent call last)",
                        "\u001b[36mFile \u001b[39m\u001b[32md:\\git_clone\\LEL\\.pixi\\envs\\default\\Lib\\asyncio\\sslproto.py:737\u001b[39m, in \u001b[36mSSLProtocol._do_read\u001b[39m\u001b[34m(self)\u001b[39m\n\u001b[32m    736\u001b[39m \u001b[38;5;28;01melse\u001b[39;00m:\n\u001b[32m--> \u001b[39m\u001b[32m737\u001b[39m     \u001b[38;5;28;43mself\u001b[39;49m\u001b[43m.\u001b[49m\u001b[43m_do_read__copied\u001b[49m\u001b[43m(\u001b[49m\u001b[43m)\u001b[49m\n\u001b[32m    738\u001b[39m \u001b[38;5;28;01mif\u001b[39;00m \u001b[38;5;28mself\u001b[39m._write_backlog:\n",
                        "\u001b[36mFile \u001b[39m\u001b[32md:\\git_clone\\LEL\\.pixi\\envs\\default\\Lib\\asyncio\\sslproto.py:782\u001b[39m, in \u001b[36mSSLProtocol._do_read__copied\u001b[39m\u001b[34m(self)\u001b[39m\n\u001b[32m    781\u001b[39m \u001b[38;5;28;01mwhile\u001b[39;00m \u001b[38;5;28;01mTrue\u001b[39;00m:\n\u001b[32m--> \u001b[39m\u001b[32m782\u001b[39m     chunk = \u001b[38;5;28;43mself\u001b[39;49m\u001b[43m.\u001b[49m\u001b[43m_sslobj\u001b[49m\u001b[43m.\u001b[49m\u001b[43mread\u001b[49m\u001b[43m(\u001b[49m\u001b[38;5;28;43mself\u001b[39;49m\u001b[43m.\u001b[49m\u001b[43mmax_size\u001b[49m\u001b[43m)\u001b[49m\n\u001b[32m    783\u001b[39m     \u001b[38;5;28;01mif\u001b[39;00m \u001b[38;5;129;01mnot\u001b[39;00m chunk:\n",
                        "\u001b[36mFile \u001b[39m\u001b[32md:\\git_clone\\LEL\\.pixi\\envs\\default\\Lib\\ssl.py:921\u001b[39m, in \u001b[36mSSLObject.read\u001b[39m\u001b[34m(self, len, buffer)\u001b[39m\n\u001b[32m    920\u001b[39m \u001b[38;5;28;01melse\u001b[39;00m:\n\u001b[32m--> \u001b[39m\u001b[32m921\u001b[39m     v = \u001b[38;5;28;43mself\u001b[39;49m\u001b[43m.\u001b[49m\u001b[43m_sslobj\u001b[49m\u001b[43m.\u001b[49m\u001b[43mread\u001b[49m\u001b[43m(\u001b[49m\u001b[38;5;28;43mlen\u001b[39;49m\u001b[43m)\u001b[49m\n\u001b[32m    922\u001b[39m \u001b[38;5;28;01mreturn\u001b[39;00m v\n",
                        "\u001b[31mSSLError\u001b[39m: [SSL] record layer failure (_ssl.c:2590)",
                        "\nThe above exception was the direct cause of the following exception:\n",
                        "\u001b[31mClientOSError\u001b[39m                             Traceback (most recent call last)",
                        "\u001b[36mCell\u001b[39m\u001b[36m \u001b[39m\u001b[32mIn[8]\u001b[39m\u001b[32m, line 2\u001b[39m\n\u001b[32m      1\u001b[39m \u001b[38;5;28mprint\u001b[39m(llm.invoke(\u001b[33m\"\u001b[39m\u001b[33mHI\u001b[39m\u001b[33m\"\u001b[39m))\n\u001b[32m----> \u001b[39m\u001b[32m2\u001b[39m \u001b[38;5;28mprint\u001b[39m(\u001b[38;5;28;01mawait\u001b[39;00m prover.ainvoke(\u001b[33m\"\u001b[39m\u001b[33mHI\u001b[39m\u001b[33m\"\u001b[39m))\n",
                        "\u001b[36mFile \u001b[39m\u001b[32md:\\git_clone\\LEL\\utils\\Models.py:29\u001b[39m, in \u001b[36mProver.ainvoke\u001b[39m\u001b[34m(self, *args, **kwargs)\u001b[39m\n\u001b[32m     27\u001b[39m \u001b[38;5;28;01masync\u001b[39;00m \u001b[38;5;28;01mdef\u001b[39;00m\u001b[38;5;250m \u001b[39m\u001b[34mainvoke\u001b[39m(\u001b[38;5;28mself\u001b[39m, *args, **kwargs):\n\u001b[32m     28\u001b[39m     tasks = [model.ainvoke(*args, **kwargs) \u001b[38;5;28;01mfor\u001b[39;00m model \u001b[38;5;129;01min\u001b[39;00m \u001b[38;5;28mself\u001b[39m.models_dict.values()]\n\u001b[32m---> \u001b[39m\u001b[32m29\u001b[39m     results = \u001b[38;5;28;01mawait\u001b[39;00m asyncio.gather(*tasks)\n\u001b[32m     31\u001b[39m     \u001b[38;5;28;01mreturn\u001b[39;00m \u001b[38;5;28mdict\u001b[39m(\u001b[38;5;28mzip\u001b[39m(\u001b[38;5;28mself\u001b[39m.models_dict.keys(), results))\n",
                        "\u001b[36mFile \u001b[39m\u001b[32md:\\git_clone\\LEL\\.pixi\\envs\\default\\Lib\\asyncio\\tasks.py:349\u001b[39m, in \u001b[36mTask.__wakeup\u001b[39m\u001b[34m(self, future)\u001b[39m\n\u001b[32m    347\u001b[39m \u001b[38;5;28;01mdef\u001b[39;00m\u001b[38;5;250m \u001b[39m\u001b[34m__wakeup\u001b[39m(\u001b[38;5;28mself\u001b[39m, future):\n\u001b[32m    348\u001b[39m     \u001b[38;5;28;01mtry\u001b[39;00m:\n\u001b[32m--> \u001b[39m\u001b[32m349\u001b[39m         \u001b[43mfuture\u001b[49m\u001b[43m.\u001b[49m\u001b[43mresult\u001b[49m\u001b[43m(\u001b[49m\u001b[43m)\u001b[49m\n\u001b[32m    350\u001b[39m     \u001b[38;5;28;01mexcept\u001b[39;00m \u001b[38;5;167;01mBaseException\u001b[39;00m \u001b[38;5;28;01mas\u001b[39;00m exc:\n\u001b[32m    351\u001b[39m         \u001b[38;5;66;03m# This may also be a cancellation.\u001b[39;00m\n\u001b[32m    352\u001b[39m         \u001b[38;5;28mself\u001b[39m.__step(exc)\n",
                        "\u001b[36mFile \u001b[39m\u001b[32md:\\git_clone\\LEL\\.pixi\\envs\\default\\Lib\\asyncio\\tasks.py:277\u001b[39m, in \u001b[36mTask.__step\u001b[39m\u001b[34m(***failed resolving arguments***)\u001b[39m\n\u001b[32m    273\u001b[39m \u001b[38;5;28;01mtry\u001b[39;00m:\n\u001b[32m    274\u001b[39m     \u001b[38;5;28;01mif\u001b[39;00m exc \u001b[38;5;129;01mis\u001b[39;00m \u001b[38;5;28;01mNone\u001b[39;00m:\n\u001b[32m    275\u001b[39m         \u001b[38;5;66;03m# We use the `send` method directly, because coroutines\u001b[39;00m\n\u001b[32m    276\u001b[39m         \u001b[38;5;66;03m# don't have `__iter__` and `__next__` methods.\u001b[39;00m\n\u001b[32m--> \u001b[39m\u001b[32m277\u001b[39m         result = coro.send(\u001b[38;5;28;01mNone\u001b[39;00m)\n\u001b[32m    278\u001b[39m     \u001b[38;5;28;01melse\u001b[39;00m:\n\u001b[32m    279\u001b[39m         result = coro.throw(exc)\n",
                        "\u001b[36mFile \u001b[39m\u001b[32md:\\git_clone\\LEL\\.pixi\\envs\\default\\Lib\\site-packages\\langchain_core\\language_models\\chat_models.py:400\u001b[39m, in \u001b[36mBaseChatModel.ainvoke\u001b[39m\u001b[34m(self, input, config, stop, **kwargs)\u001b[39m\n\u001b[32m    390\u001b[39m \u001b[38;5;129m@override\u001b[39m\n\u001b[32m    391\u001b[39m \u001b[38;5;28;01masync\u001b[39;00m \u001b[38;5;28;01mdef\u001b[39;00m\u001b[38;5;250m \u001b[39m\u001b[34mainvoke\u001b[39m(\n\u001b[32m    392\u001b[39m     \u001b[38;5;28mself\u001b[39m,\n\u001b[32m   (...)\u001b[39m\u001b[32m    397\u001b[39m     **kwargs: Any,\n\u001b[32m    398\u001b[39m ) -> BaseMessage:\n\u001b[32m    399\u001b[39m     config = ensure_config(config)\n\u001b[32m--> \u001b[39m\u001b[32m400\u001b[39m     llm_result = \u001b[38;5;28;01mawait\u001b[39;00m \u001b[38;5;28mself\u001b[39m.agenerate_prompt(\n\u001b[32m    401\u001b[39m         [\u001b[38;5;28mself\u001b[39m._convert_input(\u001b[38;5;28minput\u001b[39m)],\n\u001b[32m    402\u001b[39m         stop=stop,\n\u001b[32m    403\u001b[39m         callbacks=config.get(\u001b[33m\"\u001b[39m\u001b[33mcallbacks\u001b[39m\u001b[33m\"\u001b[39m),\n\u001b[32m    404\u001b[39m         tags=config.get(\u001b[33m\"\u001b[39m\u001b[33mtags\u001b[39m\u001b[33m\"\u001b[39m),\n\u001b[32m    405\u001b[39m         metadata=config.get(\u001b[33m\"\u001b[39m\u001b[33mmetadata\u001b[39m\u001b[33m\"\u001b[39m),\n\u001b[32m    406\u001b[39m         run_name=config.get(\u001b[33m\"\u001b[39m\u001b[33mrun_name\u001b[39m\u001b[33m\"\u001b[39m),\n\u001b[32m    407\u001b[39m         run_id=config.pop(\u001b[33m\"\u001b[39m\u001b[33mrun_id\u001b[39m\u001b[33m\"\u001b[39m, \u001b[38;5;28;01mNone\u001b[39;00m),\n\u001b[32m    408\u001b[39m         **kwargs,\n\u001b[32m    409\u001b[39m     )\n\u001b[32m    410\u001b[39m     \u001b[38;5;28;01mreturn\u001b[39;00m cast(\u001b[33m\"\u001b[39m\u001b[33mChatGeneration\u001b[39m\u001b[33m\"\u001b[39m, llm_result.generations[\u001b[32m0\u001b[39m][\u001b[32m0\u001b[39m]).message\n",
                        "\u001b[36mFile \u001b[39m\u001b[32md:\\git_clone\\LEL\\.pixi\\envs\\default\\Lib\\site-packages\\langchain_core\\language_models\\chat_models.py:974\u001b[39m, in \u001b[36mBaseChatModel.agenerate_prompt\u001b[39m\u001b[34m(self, prompts, stop, callbacks, **kwargs)\u001b[39m\n\u001b[32m    965\u001b[39m \u001b[38;5;129m@override\u001b[39m\n\u001b[32m    966\u001b[39m \u001b[38;5;28;01masync\u001b[39;00m \u001b[38;5;28;01mdef\u001b[39;00m\u001b[38;5;250m \u001b[39m\u001b[34magenerate_prompt\u001b[39m(\n\u001b[32m    967\u001b[39m     \u001b[38;5;28mself\u001b[39m,\n\u001b[32m   (...)\u001b[39m\u001b[32m    971\u001b[39m     **kwargs: Any,\n\u001b[32m    972\u001b[39m ) -> LLMResult:\n\u001b[32m    973\u001b[39m     prompt_messages = [p.to_messages() \u001b[38;5;28;01mfor\u001b[39;00m p \u001b[38;5;129;01min\u001b[39;00m prompts]\n\u001b[32m--> \u001b[39m\u001b[32m974\u001b[39m     \u001b[38;5;28;01mreturn\u001b[39;00m \u001b[38;5;28;01mawait\u001b[39;00m \u001b[38;5;28mself\u001b[39m.agenerate(\n\u001b[32m    975\u001b[39m         prompt_messages, stop=stop, callbacks=callbacks, **kwargs\n\u001b[32m    976\u001b[39m     )\n",
                        "\u001b[36mFile \u001b[39m\u001b[32md:\\git_clone\\LEL\\.pixi\\envs\\default\\Lib\\site-packages\\langchain_core\\language_models\\chat_models.py:932\u001b[39m, in \u001b[36mBaseChatModel.agenerate\u001b[39m\u001b[34m(self, messages, stop, callbacks, tags, metadata, run_name, run_id, **kwargs)\u001b[39m\n\u001b[32m    919\u001b[39m     \u001b[38;5;28;01mif\u001b[39;00m run_managers:\n\u001b[32m    920\u001b[39m         \u001b[38;5;28;01mawait\u001b[39;00m asyncio.gather(\n\u001b[32m    921\u001b[39m             *[\n\u001b[32m    922\u001b[39m                 run_manager.on_llm_end(\n\u001b[32m   (...)\u001b[39m\u001b[32m    930\u001b[39m             ]\n\u001b[32m    931\u001b[39m         )\n\u001b[32m--> \u001b[39m\u001b[32m932\u001b[39m     \u001b[38;5;28;01mraise\u001b[39;00m exceptions[\u001b[32m0\u001b[39m]\n\u001b[32m    933\u001b[39m flattened_outputs = [\n\u001b[32m    934\u001b[39m     LLMResult(generations=[res.generations], llm_output=res.llm_output)  \u001b[38;5;66;03m# type: ignore[list-item, union-attr]\u001b[39;00m\n\u001b[32m    935\u001b[39m     \u001b[38;5;28;01mfor\u001b[39;00m res \u001b[38;5;129;01min\u001b[39;00m results\n\u001b[32m    936\u001b[39m ]\n\u001b[32m    937\u001b[39m llm_output = \u001b[38;5;28mself\u001b[39m._combine_llm_outputs([res.llm_output \u001b[38;5;28;01mfor\u001b[39;00m res \u001b[38;5;129;01min\u001b[39;00m results])  \u001b[38;5;66;03m# type: ignore[union-attr]\u001b[39;00m\n",
                        "\u001b[36mFile \u001b[39m\u001b[32md:\\git_clone\\LEL\\.pixi\\envs\\default\\Lib\\asyncio\\tasks.py:277\u001b[39m, in \u001b[36mTask.__step\u001b[39m\u001b[34m(***failed resolving arguments***)\u001b[39m\n\u001b[32m    273\u001b[39m \u001b[38;5;28;01mtry\u001b[39;00m:\n\u001b[32m    274\u001b[39m     \u001b[38;5;28;01mif\u001b[39;00m exc \u001b[38;5;129;01mis\u001b[39;00m \u001b[38;5;28;01mNone\u001b[39;00m:\n\u001b[32m    275\u001b[39m         \u001b[38;5;66;03m# We use the `send` method directly, because coroutines\u001b[39;00m\n\u001b[32m    276\u001b[39m         \u001b[38;5;66;03m# don't have `__iter__` and `__next__` methods.\u001b[39;00m\n\u001b[32m--> \u001b[39m\u001b[32m277\u001b[39m         result = coro.send(\u001b[38;5;28;01mNone\u001b[39;00m)\n\u001b[32m    278\u001b[39m     \u001b[38;5;28;01melse\u001b[39;00m:\n\u001b[32m    279\u001b[39m         result = coro.throw(exc)\n",
                        "\u001b[36mFile \u001b[39m\u001b[32md:\\git_clone\\LEL\\.pixi\\envs\\default\\Lib\\site-packages\\langchain_core\\language_models\\chat_models.py:1100\u001b[39m, in \u001b[36mBaseChatModel._agenerate_with_cache\u001b[39m\u001b[34m(self, messages, stop, run_manager, **kwargs)\u001b[39m\n\u001b[32m   1098\u001b[39m     result = generate_from_stream(\u001b[38;5;28miter\u001b[39m(chunks))\n\u001b[32m   1099\u001b[39m \u001b[38;5;28;01melif\u001b[39;00m inspect.signature(\u001b[38;5;28mself\u001b[39m._agenerate).parameters.get(\u001b[33m\"\u001b[39m\u001b[33mrun_manager\u001b[39m\u001b[33m\"\u001b[39m):\n\u001b[32m-> \u001b[39m\u001b[32m1100\u001b[39m     result = \u001b[38;5;28;01mawait\u001b[39;00m \u001b[38;5;28mself\u001b[39m._agenerate(\n\u001b[32m   1101\u001b[39m         messages, stop=stop, run_manager=run_manager, **kwargs\n\u001b[32m   1102\u001b[39m     )\n\u001b[32m   1103\u001b[39m \u001b[38;5;28;01melse\u001b[39;00m:\n\u001b[32m   1104\u001b[39m     result = \u001b[38;5;28;01mawait\u001b[39;00m \u001b[38;5;28mself\u001b[39m._agenerate(messages, stop=stop, **kwargs)\n",
                        "\u001b[36mFile \u001b[39m\u001b[32md:\\git_clone\\LEL\\.pixi\\envs\\default\\Lib\\site-packages\\langchain_huggingface\\chat_models\\huggingface.py:615\u001b[39m, in \u001b[36mChatHuggingFace._agenerate\u001b[39m\u001b[34m(self, messages, stop, run_manager, stream, **kwargs)\u001b[39m\n\u001b[32m    608\u001b[39m     message_dicts, params = \u001b[38;5;28mself\u001b[39m._create_message_dicts(messages, stop)\n\u001b[32m    609\u001b[39m     params = {\n\u001b[32m    610\u001b[39m         **params,\n\u001b[32m    611\u001b[39m         **({\u001b[33m\"\u001b[39m\u001b[33mstream\u001b[39m\u001b[33m\"\u001b[39m: stream} \u001b[38;5;28;01mif\u001b[39;00m stream \u001b[38;5;129;01mis\u001b[39;00m \u001b[38;5;129;01mnot\u001b[39;00m \u001b[38;5;28;01mNone\u001b[39;00m \u001b[38;5;28;01melse\u001b[39;00m {}),\n\u001b[32m    612\u001b[39m         **kwargs,\n\u001b[32m    613\u001b[39m     }\n\u001b[32m--> \u001b[39m\u001b[32m615\u001b[39m     answer = \u001b[38;5;28;01mawait\u001b[39;00m \u001b[38;5;28mself\u001b[39m.llm.async_client.chat_completion(\n\u001b[32m    616\u001b[39m         messages=message_dicts, **params\n\u001b[32m    617\u001b[39m     )\n\u001b[32m    618\u001b[39m     \u001b[38;5;28;01mreturn\u001b[39;00m \u001b[38;5;28mself\u001b[39m._create_chat_result(answer)\n\u001b[32m    620\u001b[39m \u001b[38;5;28;01melif\u001b[39;00m _is_huggingface_pipeline(\u001b[38;5;28mself\u001b[39m.llm):\n",
                        "\u001b[36mFile \u001b[39m\u001b[32md:\\git_clone\\LEL\\.pixi\\envs\\default\\Lib\\site-packages\\huggingface_hub\\inference\\_generated\\_async_client.py:964\u001b[39m, in \u001b[36mAsyncInferenceClient.chat_completion\u001b[39m\u001b[34m(self, messages, model, stream, frequency_penalty, logit_bias, logprobs, max_tokens, n, presence_penalty, response_format, seed, stop, stream_options, temperature, tool_choice, tool_prompt, tools, top_logprobs, top_p, extra_body)\u001b[39m\n\u001b[32m    936\u001b[39m parameters = {\n\u001b[32m    937\u001b[39m     \u001b[33m\"\u001b[39m\u001b[33mmodel\u001b[39m\u001b[33m\"\u001b[39m: payload_model,\n\u001b[32m    938\u001b[39m     \u001b[33m\"\u001b[39m\u001b[33mfrequency_penalty\u001b[39m\u001b[33m\"\u001b[39m: frequency_penalty,\n\u001b[32m   (...)\u001b[39m\u001b[32m    955\u001b[39m     **(extra_body \u001b[38;5;129;01mor\u001b[39;00m {}),\n\u001b[32m    956\u001b[39m }\n\u001b[32m    957\u001b[39m request_parameters = provider_helper.prepare_request(\n\u001b[32m    958\u001b[39m     inputs=messages,\n\u001b[32m    959\u001b[39m     parameters=parameters,\n\u001b[32m   (...)\u001b[39m\u001b[32m    962\u001b[39m     api_key=\u001b[38;5;28mself\u001b[39m.token,\n\u001b[32m    963\u001b[39m )\n\u001b[32m--> \u001b[39m\u001b[32m964\u001b[39m data = \u001b[38;5;28;01mawait\u001b[39;00m \u001b[38;5;28mself\u001b[39m._inner_post(request_parameters, stream=stream)\n\u001b[32m    966\u001b[39m \u001b[38;5;28;01mif\u001b[39;00m stream:\n\u001b[32m    967\u001b[39m     \u001b[38;5;28;01mreturn\u001b[39;00m _async_stream_chat_completion_response(data)  \u001b[38;5;66;03m# type: ignore[arg-type]\u001b[39;00m\n",
                        "\u001b[36mFile \u001b[39m\u001b[32md:\\git_clone\\LEL\\.pixi\\envs\\default\\Lib\\site-packages\\huggingface_hub\\inference\\_generated\\_async_client.py:267\u001b[39m, in \u001b[36mAsyncInferenceClient._inner_post\u001b[39m\u001b[34m(self, request_parameters, stream)\u001b[39m\n\u001b[32m    264\u001b[39m session = \u001b[38;5;28mself\u001b[39m._get_client_session(headers=request_parameters.headers)\n\u001b[32m    266\u001b[39m \u001b[38;5;28;01mtry\u001b[39;00m:\n\u001b[32m--> \u001b[39m\u001b[32m267\u001b[39m     response = \u001b[38;5;28;01mawait\u001b[39;00m session.post(\n\u001b[32m    268\u001b[39m         request_parameters.url, json=request_parameters.json, data=data_as_binary, proxy=\u001b[38;5;28mself\u001b[39m.proxies\n\u001b[32m    269\u001b[39m     )\n\u001b[32m    270\u001b[39m     response_error_payload = \u001b[38;5;28;01mNone\u001b[39;00m\n\u001b[32m    271\u001b[39m     \u001b[38;5;28;01mif\u001b[39;00m response.status != \u001b[32m200\u001b[39m:\n",
                        "\u001b[36mFile \u001b[39m\u001b[32md:\\git_clone\\LEL\\.pixi\\envs\\default\\Lib\\site-packages\\huggingface_hub\\inference\\_generated\\_async_client.py:3378\u001b[39m, in \u001b[36mAsyncInferenceClient._get_client_session.<locals>._request\u001b[39m\u001b[34m(method, url, **kwargs)\u001b[39m\n\u001b[32m   3377\u001b[39m \u001b[38;5;28;01masync\u001b[39;00m \u001b[38;5;28;01mdef\u001b[39;00m\u001b[38;5;250m \u001b[39m\u001b[34m_request\u001b[39m(method, url, **kwargs):\n\u001b[32m-> \u001b[39m\u001b[32m3378\u001b[39m     response = \u001b[38;5;28;01mawait\u001b[39;00m session._wrapped_request(method, url, **kwargs)\n\u001b[32m   3379\u001b[39m     \u001b[38;5;28mself\u001b[39m._sessions[session].add(response)\n\u001b[32m   3380\u001b[39m     \u001b[38;5;28;01mreturn\u001b[39;00m response\n",
                        "\u001b[36mFile \u001b[39m\u001b[32md:\\git_clone\\LEL\\.pixi\\envs\\default\\Lib\\site-packages\\aiohttp\\client.py:770\u001b[39m, in \u001b[36mClientSession._request\u001b[39m\u001b[34m(self, method, str_or_url, params, data, json, cookies, headers, skip_auto_headers, auth, allow_redirects, max_redirects, compress, chunked, expect100, raise_for_status, read_until_eof, proxy, proxy_auth, timeout, verify_ssl, fingerprint, ssl_context, ssl, server_hostname, proxy_headers, trace_request_ctx, read_bufsize, auto_decompress, max_line_size, max_field_size, middlewares)\u001b[39m\n\u001b[32m    767\u001b[39m     handler = _connect_and_send_request\n\u001b[32m    769\u001b[39m \u001b[38;5;28;01mtry\u001b[39;00m:\n\u001b[32m--> \u001b[39m\u001b[32m770\u001b[39m     resp = \u001b[38;5;28;01mawait\u001b[39;00m handler(req)\n\u001b[32m    771\u001b[39m \u001b[38;5;66;03m# Client connector errors should not be retried\u001b[39;00m\n\u001b[32m    772\u001b[39m \u001b[38;5;28;01mexcept\u001b[39;00m (\n\u001b[32m    773\u001b[39m     ConnectionTimeoutError,\n\u001b[32m    774\u001b[39m     ClientConnectorError,\n\u001b[32m    775\u001b[39m     ClientConnectorCertificateError,\n\u001b[32m    776\u001b[39m     ClientConnectorSSLError,\n\u001b[32m    777\u001b[39m ):\n",
                        "\u001b[36mFile \u001b[39m\u001b[32md:\\git_clone\\LEL\\.pixi\\envs\\default\\Lib\\site-packages\\aiohttp\\client.py:748\u001b[39m, in \u001b[36mClientSession._request.<locals>._connect_and_send_request\u001b[39m\u001b[34m(req)\u001b[39m\n\u001b[32m    746\u001b[39m resp = \u001b[38;5;28;01mawait\u001b[39;00m req.send(conn)\n\u001b[32m    747\u001b[39m \u001b[38;5;28;01mtry\u001b[39;00m:\n\u001b[32m--> \u001b[39m\u001b[32m748\u001b[39m     \u001b[38;5;28;01mawait\u001b[39;00m resp.start(conn)\n\u001b[32m    749\u001b[39m \u001b[38;5;28;01mexcept\u001b[39;00m \u001b[38;5;167;01mBaseException\u001b[39;00m:\n\u001b[32m    750\u001b[39m     resp.close()\n",
                        "\u001b[36mFile \u001b[39m\u001b[32md:\\git_clone\\LEL\\.pixi\\envs\\default\\Lib\\site-packages\\aiohttp\\client_reqrep.py:532\u001b[39m, in \u001b[36mClientResponse.start\u001b[39m\u001b[34m(self, connection)\u001b[39m\n\u001b[32m    530\u001b[39m \u001b[38;5;28;01mtry\u001b[39;00m:\n\u001b[32m    531\u001b[39m     protocol = \u001b[38;5;28mself\u001b[39m._protocol\n\u001b[32m--> \u001b[39m\u001b[32m532\u001b[39m     message, payload = \u001b[38;5;28;01mawait\u001b[39;00m protocol.read()  \u001b[38;5;66;03m# type: ignore[union-attr]\u001b[39;00m\n\u001b[32m    533\u001b[39m \u001b[38;5;28;01mexcept\u001b[39;00m http.HttpProcessingError \u001b[38;5;28;01mas\u001b[39;00m exc:\n\u001b[32m    534\u001b[39m     \u001b[38;5;28;01mraise\u001b[39;00m ClientResponseError(\n\u001b[32m    535\u001b[39m         \u001b[38;5;28mself\u001b[39m.request_info,\n\u001b[32m    536\u001b[39m         \u001b[38;5;28mself\u001b[39m.history,\n\u001b[32m   (...)\u001b[39m\u001b[32m    539\u001b[39m         headers=exc.headers,\n\u001b[32m    540\u001b[39m     ) \u001b[38;5;28;01mfrom\u001b[39;00m\u001b[38;5;250m \u001b[39m\u001b[34;01mexc\u001b[39;00m\n",
                        "\u001b[36mFile \u001b[39m\u001b[32md:\\git_clone\\LEL\\.pixi\\envs\\default\\Lib\\site-packages\\aiohttp\\streams.py:672\u001b[39m, in \u001b[36mDataQueue.read\u001b[39m\u001b[34m(self)\u001b[39m\n\u001b[32m    670\u001b[39m \u001b[38;5;28mself\u001b[39m._waiter = \u001b[38;5;28mself\u001b[39m._loop.create_future()\n\u001b[32m    671\u001b[39m \u001b[38;5;28;01mtry\u001b[39;00m:\n\u001b[32m--> \u001b[39m\u001b[32m672\u001b[39m     \u001b[38;5;28;01mawait\u001b[39;00m \u001b[38;5;28mself\u001b[39m._waiter\n\u001b[32m    673\u001b[39m \u001b[38;5;28;01mexcept\u001b[39;00m (asyncio.CancelledError, asyncio.TimeoutError):\n\u001b[32m    674\u001b[39m     \u001b[38;5;28mself\u001b[39m._waiter = \u001b[38;5;28;01mNone\u001b[39;00m\n",
                        "\u001b[36mFile \u001b[39m\u001b[32md:\\git_clone\\LEL\\.pixi\\envs\\default\\Lib\\asyncio\\futures.py:287\u001b[39m, in \u001b[36mFuture.__await__\u001b[39m\u001b[34m(self)\u001b[39m\n\u001b[32m    285\u001b[39m \u001b[38;5;28;01mif\u001b[39;00m \u001b[38;5;129;01mnot\u001b[39;00m \u001b[38;5;28mself\u001b[39m.done():\n\u001b[32m    286\u001b[39m     \u001b[38;5;28mself\u001b[39m._asyncio_future_blocking = \u001b[38;5;28;01mTrue\u001b[39;00m\n\u001b[32m--> \u001b[39m\u001b[32m287\u001b[39m     \u001b[38;5;28;01myield\u001b[39;00m \u001b[38;5;28mself\u001b[39m  \u001b[38;5;66;03m# This tells Task to wait for completion.\u001b[39;00m\n\u001b[32m    288\u001b[39m \u001b[38;5;28;01mif\u001b[39;00m \u001b[38;5;129;01mnot\u001b[39;00m \u001b[38;5;28mself\u001b[39m.done():\n\u001b[32m    289\u001b[39m     \u001b[38;5;28;01mraise\u001b[39;00m \u001b[38;5;167;01mRuntimeError\u001b[39;00m(\u001b[33m\"\u001b[39m\u001b[33mawait wasn\u001b[39m\u001b[33m'\u001b[39m\u001b[33mt used with future\u001b[39m\u001b[33m\"\u001b[39m)\n",
                        "\u001b[36mFile \u001b[39m\u001b[32md:\\git_clone\\LEL\\.pixi\\envs\\default\\Lib\\asyncio\\tasks.py:349\u001b[39m, in \u001b[36mTask.__wakeup\u001b[39m\u001b[34m(self, future)\u001b[39m\n\u001b[32m    347\u001b[39m \u001b[38;5;28;01mdef\u001b[39;00m\u001b[38;5;250m \u001b[39m\u001b[34m__wakeup\u001b[39m(\u001b[38;5;28mself\u001b[39m, future):\n\u001b[32m    348\u001b[39m     \u001b[38;5;28;01mtry\u001b[39;00m:\n\u001b[32m--> \u001b[39m\u001b[32m349\u001b[39m         \u001b[43mfuture\u001b[49m\u001b[43m.\u001b[49m\u001b[43mresult\u001b[49m\u001b[43m(\u001b[49m\u001b[43m)\u001b[49m\n\u001b[32m    350\u001b[39m     \u001b[38;5;28;01mexcept\u001b[39;00m \u001b[38;5;167;01mBaseException\u001b[39;00m \u001b[38;5;28;01mas\u001b[39;00m exc:\n\u001b[32m    351\u001b[39m         \u001b[38;5;66;03m# This may also be a cancellation.\u001b[39;00m\n\u001b[32m    352\u001b[39m         \u001b[38;5;28mself\u001b[39m.__step(exc)\n",
                        "\u001b[36mFile \u001b[39m\u001b[32md:\\git_clone\\LEL\\.pixi\\envs\\default\\Lib\\asyncio\\futures.py:203\u001b[39m, in \u001b[36mFuture.result\u001b[39m\u001b[34m(self)\u001b[39m\n\u001b[32m    201\u001b[39m \u001b[38;5;28mself\u001b[39m.__log_traceback = \u001b[38;5;28;01mFalse\u001b[39;00m\n\u001b[32m    202\u001b[39m \u001b[38;5;28;01mif\u001b[39;00m \u001b[38;5;28mself\u001b[39m._exception \u001b[38;5;129;01mis\u001b[39;00m \u001b[38;5;129;01mnot\u001b[39;00m \u001b[38;5;28;01mNone\u001b[39;00m:\n\u001b[32m--> \u001b[39m\u001b[32m203\u001b[39m     \u001b[38;5;28;01mraise\u001b[39;00m \u001b[38;5;28mself\u001b[39m._exception.with_traceback(\u001b[38;5;28mself\u001b[39m._exception_tb)\n\u001b[32m    204\u001b[39m \u001b[38;5;28;01mreturn\u001b[39;00m \u001b[38;5;28mself\u001b[39m._result\n",
                        "\u001b[31mClientOSError\u001b[39m: [Errno 1] [SSL] record layer failure (_ssl.c:2590)"
                    ]
                }
            ],
            "source": [
                "print(llm.invoke(\"HI\"))\n",
                "print(await prover.ainvoke(\"HI\"))"
            ]
        },
        {
            "cell_type": "code",
            "execution_count": null,
            "id": "b0b47af3",
            "metadata": {},
            "outputs": [],
            "source": [
                "leanState:LeanState={}\n",
                "tree:Tree={}\n",
                "\n",
                "@tool\n",
                "def updateLeanState(stateName,text:str):\n",
                "    \"\"\"\n",
                "    更新AgentState\n",
                "    Args:\n",
                "        stateName:leanState 其中元素的名称\n",
                "        text:需要写入的内容\n",
                "    \"\"\"\n",
                "    global leanState\n",
                "    leanState[stateName]=text\n",
                "    return f\"leanState更新完成，更新了{stateName}\"\n",
                "\n",
                "@tool\n",
                "def update_leaf_message(lean:str):\n",
                "    \"\"\"\n",
                "    向树形结构添加新的解释信息\n",
                "    \n",
                "    参数:\n",
                "        lean: 待解释的文本内容\n",
                "    \n",
                "    返回:\n",
                "        包含操作结果的状态信息\n",
                "    功能:\n",
                "        1. 生成唯一标识符作为新节点ID\n",
                "        2. 创建包含原始文本和解释结果的元组\n",
                "        3. 将元组添加到树结构的leaves字典中\n",
                "        4. 返回更新后的树结构信息\n",
                "    \n",
                "    依赖:\n",
                "        - server.run(): 执行命令并返回lean解释器结果\n",
                "        - uuid.uuid4(): 生成随机唯一标识符的函数\n",
                "        - tree: 全局变量，存储树形结构的字典\n",
                "    \"\"\"\n",
                "    global tree\n",
                "    random_id=str(uuid.uudi4())\n",
                "    tree['leaves'][random_id]=[lean,server.run(Command(cmd=lean))]\n",
                "    return f\"leanMessages 已更新了节点 {random_id}\"\n",
                "\n",
                "@tool\n",
                "def delete_leaf_message(leaf_id: str) -> dict:\n",
                "    \"\"\"\n",
                "    从树结构中删除指定ID的叶子节点\n",
                "    \n",
                "    Args:\n",
                "        leaf_id: 要删除的叶子节点ID\n",
                "        \n",
                "    Returns:\n",
                "        包含操作结果的字典\n",
                "    \"\"\"\n",
                "    global tree\n",
                "    if leaf_id not in tree[\"leaves\"]:\n",
                "        return  f\"error : 叶子节点ID '{leaf_id}'不存在\"\n",
                "        \n",
                "    tree[\"leaves\"].pop(leaf_id)\n",
                "    return f\"叶子节点ID '{leaf_id}'已成功删除\"\n",
                "\n",
                "@tool\n",
                "def save(filename: str, lean: str) -> str:\n",
                "    \"\"\"将lean证明保存为Lean格式的文本文件并结束流程。\n",
                "    \n",
                "    参数:\n",
                "        filename: 文本文件名称。\n",
                "        lean: 要保存的Lean代码内容。\n",
                "    \"\"\"\n",
                "\n",
                "    # 确保文件名以.lean扩展名结尾\n",
                "    if not filename.endswith('.lean'):\n",
                "        filename = f\"{filename}.lean\"\n",
                "\n",
                "    try:\n",
                "        with open(filename, 'w', encoding='utf-8') as file:\n",
                "            file.write(lean)\n",
                "        print(f\"文档已保存至: {filename}\")\n",
                "        return f\"文档已成功保存至 '{filename}'。\"\n",
                "    \n",
                "    except Exception as e:\n",
                "        return f\"保存文档时出错: {str(e)}\""
            ]
        },
        {
            "cell_type": "code",
            "execution_count": null,
            "id": "bdb44096",
            "metadata": {},
            "outputs": [],
            "source": [
                "systemPrompt={\n",
                "    \"init\":\"\"\"\n",
                "    你的任务：\n",
                "        1.你需要将leanState.query中的内容转换为lean语言，记录在leanState.leanQuery中,或者将leanState.leanQuery中的内容转换为自然语言，记录在leanState.qurey中，在这里，你并不需要解答问题，只需翻译即可。\n",
                "        2.你需要搜一些背景知识，为了帮助在你之后的模型理解，你需要将你搜集到的知识存储到leanState.background中。\n",
                "        3.你需要搜索一些关于该题目中使用的lean theorem，你需要将你搜到的知识存储到leanState.leanTheorem中。\n",
                "    你可以调用的工具：\n",
                "        1.updateLeanState 用来更新leanState\n",
                "        2.search_lean_theorem 用来搜索lean theorem的内容\n",
                "        3.ddgs_search 用来搜索网络中的内容\n",
                "        4.retriever_tool 用来搜索知识库中的信息\n",
                "    leanState的结构：\n",
                "        class LeanState(TypedDict):\n",
                "            query : str | None \n",
                "            background : str | None \n",
                "            leanQuery : str | None\n",
                "            leanTheorem : str | None\n",
                "    \"\"\",\n",
                "    \"prover\":f\"\"\"\n",
                "    你的任务：\n",
                "        1.你需要根据leanState信息的协助下写出证明\n",
                "            其中 query是问题的自然语言表达\n",
                "                 backgroud是关于问题的一些背景知识\n",
                "                 leanQuery是问题的lean语言陈述\n",
                "                 leanTheorem是问题可能使用到的定理\n",
                "        2.你可能会参考到以前给出的证明（不一定正确）\n",
                "            结构即{{\"leaves\": {{\"leaf_id\":[\"lean_proof\",\"leanInterpreted\"]}}}}\n",
                "    \"\"\",\n",
                "    \"agent\":f\"\"\"\n",
                "    你的任务：\n",
                "        1.总结proverMessages中的信息，记录在tree中，并且随时更新或删除tree中的内容（使用工具delete_leaf_message或update_leaf_message），你需要保证，百分之五十的证明淘汰率。\n",
                "        2.当你觉得tree中的证明令你满意，你可以使用工具save来保存该证明（证明包括：lean证明和注释的自然语言证明），这样可以退出程序，完成证明。\n",
                "        3.当你发现了某个证明引用了不存在的定理，你可以使用search_lean_theorem，你需要将你搜到的知识存储到leanState.leanTheorem中。\n",
                "    你可以调用的工具：\n",
                "        1.search_lean_theorem：搜索lean定理\n",
                "        2.delete_leaf_message：删除tree中某个证明\n",
                "        3.update_leaf_message：更新证明\n",
                "        4.updateLeanState：更新leanState\n",
                "        5.save：保存lean的证明\n",
                "    tree的结构:\n",
                "        class Tree(TypedDict):\n",
                "            leaves : dict[str , list[Union[str,CommandResponse]]]\n",
                "            结构即 {{\"leaves\": {{\"leaf_id\":[\"lean_proof\",\"leanInterpreted\"]}}}}\n",
                "    leanState的结构：\n",
                "        class LeanState(TypedDict):\n",
                "            query : str | None \n",
                "            background : str | None \n",
                "            leanQuery : str | None\n",
                "            leanTheorem : str | None\n",
                "    \"\"\"\n",
                "}\n",
                "\n",
                "init_tools=[updateLeanState,search_lean_theorem,ddgs_search,retriever_tool]\n",
                "agent_tools=[search_lean_theorem,updateLeanState,save,delete_leaf_message,update_leaf_message]\n",
                "init_llm=llm.bind_tools(init_tools)\n",
                "agent_llm=llm.bind_tools(agent_tools)\n",
                "def call_init_llm(state:AgentState)-> AgentState:\n",
                "    system=SystemMessage(content=systemPrompt[\"init\"])\n",
                "    reponse=init_llm.invoke([system]+state[\"initMessages\"])\n",
                "    return {\"initMessages\":[reponse]}\n",
                "\n",
                "async def call_prover_llm(state:AgentState) -> AgentState:\n",
                "    prompt=f\"tree :{tree},leanState:{leanState}\"\n",
                "    system=systemPrompt[\"prover\"]+prompt\n",
                "    state[\"proverMessages\"]=await  prover.ainvoke(system)\n",
                "    return state\n",
                "\n",
                "def cal_agent_llm(state:AgentState)->AgentState:\n",
                "    if \"agentMessages\" in state:\n",
                "        historymess = state[\"agentMessages\"]\n",
                "    else:\n",
                "        historymess=[]\n",
                "    provermess=state[\"proverMessages\"]\n",
                "    prompt=f\"tree:{tree},leanState:{leanState},proverMessages:{provermess}\"\n",
                "    system=SystemMessage(content=systemPrompt[\"agent\"]+prompt)\n",
                "    reponse=agent_llm.invoke([system]+historymess)\n",
                "    return {\"agentMessages\":[reponse]}\n",
                "\n",
                "def should_init_continue(state :AgentState):\n",
                "    \"\"\"check the last massage contants tool call\"\"\"\n",
                "    result=state[\"initMessages\"][-1]\n",
                "    return hasattr(result,\"tool_calls\") and len(result.tool_calls) > 0\n",
                "\n",
                "def should_agent_continue(state: AgentState) -> str:\n",
                "    \"\"\"Determine if we should continue or end the conversation.\"\"\"\n",
                "\n",
                "    messages = state[\"agentMessages\"]\n",
                "    \n",
                "    if not messages:\n",
                "        return \"continue\"\n",
                "    \n",
                "    # This looks for the most recent tool message....\n",
                "    for message in reversed(messages):\n",
                "        if (isinstance(message, ToolMessage) and \n",
                "            \"文档已成功保存\" in message.content):\n",
                "            return \"end\" \n",
                "        \n",
                "    return \"continue\"\n",
                "\n",
                "def should_agent_prover(state:AgentState):\n",
                "    result=state[\"agentMessages\"][-1]\n",
                "    return hasattr(result,\"tool_calls\") and len(result.tool_calls) > 0"
            ]
        },
        {
            "cell_type": "code",
            "execution_count": null,
            "id": "240acaa8",
            "metadata": {},
            "outputs": [],
            "source": [
                "graph=StateGraph(AgentState)\n",
                "\n",
                "init_tool_node=ToolNode(init_tools,messages_key=\"initMessages\")\n",
                "agent_tool_node=ToolNode(agent_tools,messages_key=\"agentMessages\")\n",
                "\n",
                "graph.add_node(\"init_node\",call_init_llm)\n",
                "graph.add_node(\"init_tool_node\",init_tool_node)\n",
                "graph.add_node(\"prover_node\",call_prover_llm)\n",
                "graph.add_node(\"agent_node\",cal_agent_llm)\n",
                "graph.add_node(\"agent_tool_node\",agent_tool_node)\n",
                "\n",
                "graph.add_edge(START,\"init_node\")\n",
                "graph.add_edge(\"init_tool_node\",\"init_node\")\n",
                "graph.add_edge(\"prover_node\",\"agent_node\")\n",
                "\n",
                "graph.add_conditional_edges(\"init_node\",should_init_continue,{True:\"init_tool_node\",False:\"prover_node\"})\n",
                "graph.add_conditional_edges(\"agent_tool_node\",should_agent_continue,{\"continue\":\"agent_node\",\"end\":END})\n",
                "graph.add_conditional_edges(\"agent_node\",should_agent_prover,{True:\"agent_tool_node\",False:\"prover_node\"})\n",
                "agent=graph.compile()"
            ]
        },
        {
            "cell_type": "code",
            "execution_count": null,
            "id": "0b2c7999",
            "metadata": {},
            "outputs": [
                {
                    "data": {
                        "image/png": "[encoded data removed]",
                        "text/plain": [
                            "<IPython.core.display.Image object>"
                        ]
                    },
                    "metadata": {},
                    "output_type": "display_data"
                }
            ],
            "source": [
                "from IPython.display import display, Image\n",
                "\n",
                "display(Image(agent.get_graph().draw_mermaid_png()))"
            ]
        },
        {
            "cell_type": "code",
            "execution_count": null,
            "id": "c7a59106",
            "metadata": {},
            "outputs": [
                {
                    "ename": "NameError",
                    "evalue": "name 'agent' is not defined",
                    "output_type": "error",
                    "traceback": [
                        "\u001b[31m---------------------------------------------------------------------------\u001b[39m",
                        "\u001b[31mNameError\u001b[39m                                 Traceback (most recent call last)",
                        "\u001b[36mCell\u001b[39m\u001b[36m \u001b[39m\u001b[32mIn[9]\u001b[39m\u001b[32m, line 1\u001b[39m\n\u001b[32m----> \u001b[39m\u001b[32m1\u001b[39m \u001b[38;5;28;01mawait\u001b[39;00m \u001b[43magent\u001b[49m.ainvoke({\u001b[33m\"\u001b[39m\u001b[33minitMessages\u001b[39m\u001b[33m\"\u001b[39m:[HumanMessage(content=\u001b[33m\"\u001b[39m\u001b[33m为什么根号二不是有理数？\u001b[39m\u001b[33m\"\u001b[39m)]})\n",
                        "\u001b[31mNameError\u001b[39m: name 'agent' is not defined"
                    ]
                }
            ],
            "source": [
                "await agent.ainvoke({\"initMessages\":[HumanMessage(content=\"为什么根号二不是有理数？\")]})"
            ]
        },
        {
            "cell_type": "code",
            "execution_count": null,
            "id": "16fc4e90",
            "metadata": {},
            "outputs": [
                {
                    "data": {
                        "text/plain": [
                            "{'query': '为什么根号二不是有理数？',\n",
                            " 'leanQuery': '证明 sqrt(2) 是无理数。 (Prove sqrt(2) is irrational.)',\n",
                            " 'background': '根号二不是有理数是一个经典的数学证明，通常使用反证法。证明思路是假设根号二是a/b形式的有理数（其中a和b是互质的整数），然后通过推导得出矛盾，从而证明根号二不是有理数。',\n",
                            " 'leanTheorem': '在Lean中，`irrational_sqrt_two` 定理直接声明了 `Irrational (√2)`，即根号2是无理数。这个定理位于 `Mathlib/Data/Real/Irrational.lean` 文件中。此外，`Irrational` 的定义是 `x ∉ Set.range ((↑) : ℚ → ℝ)`，表示一个实数是无理数，如果它不在有理数到实数的规范嵌入的范围内。还有一些相关的定理，如 `irrational_sqrt_of_multiplicity_odd` 和 `irrational_sqrt_ofNat_iff`，它们提供了更一般的判断平方根是否为无理数的方法。'}"
                        ]
                    },
                    "execution_count": 11,
                    "metadata": {},
                    "output_type": "execute_result"
                }
            ],
            "source": [
                "leanState"
            ]
        },
        {
            "cell_type": "code",
            "execution_count": null,
            "id": "01b7f473",
            "metadata": {},
            "outputs": [
                {
                    "data": {
                        "text/plain": [
                            "{}"
                        ]
                    },
                    "execution_count": 12,
                    "metadata": {},
                    "output_type": "execute_result"
                }
            ],
            "source": [
                "tree"
            ]
        }
    ],
    "metadata": {
        "kernelspec": {
            "display_name": "Python 3",
            "language": "python",
            "name": "python3"
        },
        "language_info": {
            "codemirror_mode": {
                "name": "ipython",
                "version": 3
            },
            "file_extension": ".py",
            "mimetype": "text/x-python",
            "name": "python",
            "nbconvert_exporter": "python",
            "pygments_lexer": "ipython3",
            "version": "3.11.13"
        }
    },
    "nbformat": 4,
    "nbformat_minor": 5
}
